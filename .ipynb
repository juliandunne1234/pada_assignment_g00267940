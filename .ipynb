{
 "cells": [
  {
   "cell_type": "markdown",
   "metadata": {},
   "source": [
    "# Programming for Data Analysis: Investigation of numpy.random package"
   ]
  },
  {
   "cell_type": "markdown",
   "metadata": {},
   "source": [
    "Author: Julian Dunne g00267940@gmit.ie"
   ]
  },
  {
   "cell_type": "markdown",
   "metadata": {},
   "source": [
    "1 - create jupyter notebook explaining the use of the numpy.random package\n",
    "\n",
    "2 - explain the use of the \"Simple random data\" and \"Permutations\" functions\n",
    "\n",
    "3 - explain the use of at least 5 \"Distributions\" functions\n",
    "\n",
    "4 - explain the use of seeds in generating pseudorandom numbers"
   ]
  },
  {
   "cell_type": "markdown",
   "metadata": {},
   "source": [
    "Don't forget to include READ.ME file which only needs to include an explanation of what is contained in the repository and how to run the Jupyter Notebook  "
   ]
  },
  {
   "cell_type": "markdown",
   "metadata": {},
   "source": [
    "## Background Information for Numpy\n",
    "Numpy is a python package used for scientific and numerical computing. Numpy stores data in multidimensional arrays and is similiar to Python 'Lists' however it is more efficient at storing and accessing this data https://www.educba.com/introduction-to-numpy/?source=leftnav.\n",
    "\n",
    "Numpy can access this information faster due to the data within these multidimensional arrays being fixed types i.e. float, integer or string. Numpy arrays does not contain different datatypes as can be used in Python 'Lists' which means Numpy does not check for datatypes when analysing data. This reduces the time required by Numpy to retrieve and analsyse  data which is beneficial when analysing large amounts of data \n",
    "https://www.youtube.com/watch?v=GB9ByFAIAH4&t=1751s.\n"
   ]
  },
  {
   "cell_type": "markdown",
   "metadata": {},
   "source": [
    "## Intro to numpy.random\n",
    "The Numpy library has the ability to simulate random arrays of data, shuffle this data and to draw samples from this data based on specified distributions, all of which will be looked at further as part of this assignment. \n",
    "\n",
    "When introducing the Numpy random module it is interesting to note that the data generated using this method is not actually random. Computers work on programs which are a definitive set of instructions so an algorithm within the program must generate the random number as well. If there is a program to generate a random number it can be predicted. Meaning it is not a truly random number. Random numbers generated this way are called pseudo random. https://www.w3schools.com/python/numpy_random.asp\n"
   ]
  },
  {
   "cell_type": "markdown",
   "metadata": {},
   "source": [
    "## 1) The purpose of numpy.random\n",
    "\n",
    "Numpy produces pseudo random numbers using combinations of a BitGenerator to create sequences and a Generator to use those sequences to sample from different statistical distributions http://www.numpy.org.cn/en/reference/routines/random.html#quick-start. \n",
    "\n",
    "BitGenerators do not directly provide random numbers and only contain methods used for seeding, getting or setting the state, jumping or advancing the state, and for accessing low-level wrappers for consumption by code that can efficiently access the functions provided https://numpy.org/devdocs/reference/random/bit_generators/index.html.\n",
    "     \n",
    "The Generator provides access to a wide range of distributions. The Generator relies on an the BitGenerator to manage state and generate the random bits, which are then transformed into random values from specific distributions. This structure allows alternative bit generators to be used with little code duplication. The default BitGenerator used by Generator is PCG64 https://numpy.org/devdocs/reference/random/generator.html.\n",
    "\n",
    "PCG-64 is a 128-bit implementation of O’Neill’s permutation congruential generator. PCG-64 has a period of 2^{128} and supports advancing an arbitrary number of steps as well as 2^{127} streams https://numpy.org/devdocs/reference/random/bit_generators/pcg64.html. The Permuted Congruential Generator uses a linear congruential generator as the state-transition function. Linear congruential generators are known to be statistically weak, but PCG's state transition function only does half the work. PCG uses a technique called permutation functions on tuples to produce output that is much more random than the random number generators internal state. PCG's output functions are what gives it its excellent statistical performance and makes it hard predict from its output https://www.pcg-random.org/.\n",
    "\n",
    "The numpy.random package serves many purposes some of which have been  briefly touched on so far and that will be looked at in greater detail in the following sections. Purpose of the numpy.random package includes:\n",
    "\n",
    "\n",
    "#### Explain that data is generated in either uniformly or normally distributed\n",
    "\n",
    "\n",
    "## Need to list out the purposes of numpy.random\n",
    "1) Generation of pseudo-random numbers\n",
    "\n",
    "2) Statistical analysis of a wide range of distributions using real life or pseudo-random generated numbers\n"
   ]
  },
  {
   "cell_type": "markdown",
   "metadata": {},
   "source": [
    "## Importing the required libraries"
   ]
  },
  {
   "cell_type": "code",
   "execution_count": 126,
   "metadata": {},
   "outputs": [],
   "source": [
    "#Import numpy and matplotlib libraries\n",
    "import numpy as np\n",
    "from numpy import random\n",
    "import matplotlib.pyplot as plt\n",
    "\n",
    "%matplotlib inline"
   ]
  },
  {
   "cell_type": "markdown",
   "metadata": {},
   "source": [
    "## 2) Simple Random Data and Permutations Functions\n",
    "\n",
    "Numpy has a number of functions for generating libraries of pseudo random data. Using built-in methods which will be discussed in the section below it can randomly create and configure this pseudo random data. These are numpy's Simple Random Data methods:"
   ]
  },
  {
   "cell_type": "markdown",
   "metadata": {},
   "source": [
    "### random.default_rng().integers() \n",
    "Generator.integers() method replaces randomstate.randint() method used in previous versions on numpy. Returns an array of random integers that are from the “discrete uniform” distribution for a specified dtype.\n",
    "https://numpy.org/doc/stable/reference/random/generated/numpy.random.Generator.integers.html#numpy.random.Generator.integers"
   ]
  },
  {
   "cell_type": "code",
   "execution_count": 158,
   "metadata": {},
   "outputs": [
    {
     "data": {
      "text/plain": [
       "array([1, 1, 1, 0, 1, 1, 0, 1, 0, 0, 1, 0, 0, 0, 1, 1], dtype=int64)"
      ]
     },
     "execution_count": 158,
     "metadata": {},
     "output_type": "execute_result"
    }
   ],
   "source": [
    "# Generate a random array of 0 and 1 integers\n",
    "rng_integers = np.random.default_rng().integers(2, size=(16))\n",
    "rng_integers\n"
   ]
  },
  {
   "cell_type": "code",
   "execution_count": 159,
   "metadata": {},
   "outputs": [
    {
     "data": {
      "text/plain": [
       "<StemContainer object of 3 artists>"
      ]
     },
     "execution_count": 159,
     "metadata": {},
     "output_type": "execute_result"
    },
    {
     "data": {
      "image/png": "[encoded data removed]",
      "text/plain": [
       "<Figure size 432x288 with 1 Axes>"
      ]
     },
     "metadata": {
      "needs_background": "light"
     },
     "output_type": "display_data"
    }
   ],
   "source": [
    "plt.stem(rng_integers, use_line_collection=True)"
   ]
  },
  {
   "cell_type": "markdown",
   "metadata": {},
   "source": [
    "\n",
    "\n",
    "#### generate a signal using binary numbers. might be interesting to add into file for\n",
    "#### rng().integers below\n",
    "https://www.youtube.com/watch?v=XCDvWF8XSC4"
   ]
  },
  {
   "cell_type": "markdown",
   "metadata": {},
   "source": [
    "## random.default_rng().random()\n",
    "Generator.random() method replaces randomstate.random_sample() method used in previous versions on numpy. Returns an array of random floats from the “continuous uniform” distribution over the stated interval. \n",
    "https://numpy.org/doc/stable/reference/random/generated/numpy.random.Generator.random.html#numpy.random.Generator.random"
   ]
  },
  {
   "cell_type": "code",
   "execution_count": null,
   "metadata": {},
   "outputs": [],
   "source": [
    "bb = np.random.default_rng().random()\n",
    "bb"
   ]
  },
  {
   "cell_type": "code",
   "execution_count": null,
   "metadata": {},
   "outputs": [],
   "source": [
    "bb = np.random.default_rng().random((5,))\n",
    "bb"
   ]
  },
  {
   "cell_type": "code",
   "execution_count": 51,
   "metadata": {},
   "outputs": [],
   "source": [
    "cc = 5 * np.random.default_rng().random((20,2))"
   ]
  },
  {
   "cell_type": "markdown",
   "metadata": {},
   "source": [
    "Random.rand() can be used to create as many floating-point numbers in as many dimensions as is required. All values will be in the range 0.0 - 1.0 (low, high). Note 1.0 is exclusive meaning all values are below 1.0.\n",
    "https://www.pythonpool.com/numpy-random/"
   ]
  },
  {
   "cell_type": "code",
   "execution_count": null,
   "metadata": {},
   "outputs": [],
   "source": []
  },
  {
   "cell_type": "markdown",
   "metadata": {},
   "source": [
    "## random.default_rng().choice()\n",
    "Generates a random sample from a given 1-D array which can be of a single data type such as either: integer, float or string. https://numpy.org/doc/stable/reference/random/generated/numpy.random.Generator.choice.html#numpy.random.Generator.choice\n",
    "\n",
    "There are several applications for the choice() method:\n",
    "\n",
    "1) Generate a random uniform sample with(out) replacement\n",
    "\n",
    "2) Generate a random non-uniform sample using probability with(out) replacement\n",
    "\n",
    "3) The above can be applied to an arbitrary array-like instead of just integers e.g. dtype=string"
   ]
  },
  {
   "cell_type": "code",
   "execution_count": 97,
   "metadata": {},
   "outputs": [
    {
     "data": {
      "text/plain": [
       "array([5, 2, 1, 4, 6, 7], dtype=int64)"
      ]
     },
     "execution_count": 97,
     "metadata": {},
     "output_type": "execute_result"
    }
   ],
   "source": [
    "# Generate a random uniform sample without replacement\n",
    "rng_choice_1 = np.random.default_rng().choice(10, 6, replace=False)\n",
    "rng_choice_1"
   ]
  },
  {
   "cell_type": "code",
   "execution_count": 96,
   "metadata": {},
   "outputs": [
    {
     "data": {
      "text/plain": [
       "array([3, 0, 3, 3, 3, 3, 3, 3, 3, 3], dtype=int64)"
      ]
     },
     "execution_count": 96,
     "metadata": {},
     "output_type": "execute_result"
    }
   ],
   "source": [
    "# Generate a random non-uniform sample using probability 'p' with replacement\n",
    "rng_choice_2 = np.random.default_rng().choice(5, 10, p=[0.2, 0, 0, 0.8, 0])\n",
    "rng_choice_2"
   ]
  },
  {
   "cell_type": "markdown",
   "metadata": {},
   "source": [
    "## generate a list and then randomly choose an item from the list removing this item until there is only 1 item left in the list\n",
    "https://www.youtube.com/watch?v=Ac1vF1rxd2k"
   ]
  },
  {
   "cell_type": "code",
   "execution_count": null,
   "metadata": {},
   "outputs": [],
   "source": []
  },
  {
   "cell_type": "markdown",
   "metadata": {},
   "source": [
    "## np.random.default_rng().bytes()\n",
    "Returns string of length(length) based on specified number of random bytes(len).\n",
    "https://numpy.org/doc/stable/reference/random/generated/numpy.random.Generator.bytes.html#numpy.random.Generator.bytes\n"
   ]
  },
  {
   "cell_type": "code",
   "execution_count": 109,
   "metadata": {},
   "outputs": [
    {
     "data": {
      "text/plain": [
       "b'\\xd1'"
      ]
     },
     "execution_count": 109,
     "metadata": {},
     "output_type": "execute_result"
    }
   ],
   "source": [
    "u=np.random.bytes(1)\n",
    "u"
   ]
  },
  {
   "cell_type": "markdown",
   "metadata": {},
   "source": [
    "## might be interesting to try convert the random.byte() to readable output\n",
    "https://www.binaryhexconverter.com/ascii-text-to-binary-converter"
   ]
  },
  {
   "cell_type": "code",
   "execution_count": null,
   "metadata": {},
   "outputs": [],
   "source": []
  },
  {
   "cell_type": "code",
   "execution_count": null,
   "metadata": {},
   "outputs": [],
   "source": []
  },
  {
   "cell_type": "markdown",
   "metadata": {},
   "source": [
    "html page with brief descriptions of numpy.random\n",
    "http://pyopengl.sourceforge.net/pydoc/numpy.random.html\n",
    "\n",
    "Mersenne Twister pseudo-random number generator\n",
    "\n",
    "http://www.numpy.org.cn/en/reference/routines/random.html#quick-start\n"
   ]
  },
  {
   "cell_type": "code",
   "execution_count": null,
   "metadata": {},
   "outputs": [],
   "source": []
  },
  {
   "cell_type": "code",
   "execution_count": null,
   "metadata": {},
   "outputs": [],
   "source": []
  },
  {
   "cell_type": "markdown",
   "metadata": {},
   "source": [
    "### Look into monte carlo simulation for random\n",
    "https://www.scratchapixel.com/lessons/mathematics-physics-for-computer-graphics/monte-carlo-methods-in-practice/generating-random-numbers#:~:text=If%20you%20use%20Monte%20Carlo%20methods%20to%20produce,in%20a%20production%20environment%2C%20is%20an%20absolute%20necessity.\n",
    "\n",
    "https://www.youtube.com/watch?v=BfS2H1y6tzQ\n"
   ]
  },
  {
   "cell_type": "markdown",
   "metadata": {},
   "source": []
  },
  {
   "cell_type": "markdown",
   "metadata": {},
   "source": [
    "https://numpy.org/doc/stable/reference/random/index.html"
   ]
  },
  {
   "cell_type": "markdown",
   "metadata": {},
   "source": [
    "Yotube video minute 7 shows using a picture and changing index values to inverse the pic/turn it upside down etc. Maybe have example in the assignment whereby it shows what changing indexes can do\n",
    "https://www.youtube.com/watch?v=xECXZ3tyONo"
   ]
  },
  {
   "cell_type": "markdown",
   "metadata": {},
   "source": [
    "Numpy is a multidimensional array database\n",
    "Much faster than using lists in python \n",
    "Np uses fixed types and requires less bytes of memory so it is faster than using python lists\n",
    "Numpy array does not require type checking as all objects are the same e.g. integer, float, string"
   ]
  },
  {
   "cell_type": "markdown",
   "metadata": {},
   "source": [
    "### 1 Explain the use of numpy.random package\n",
    "\n",
    "\n",
    "\n",
    "Generators: Objects that transform sequences of random bits from a BitGenerator into sequences of numbers that follow a specific probability distribution (such as uniform, Normal or Binomial) within a specified interval. https://numpy.org/devdocs/reference/random/index.html\n",
    "\n",
    "a = np.random.random((3, 3)) method returns float values between 0-1\n",
    "\n",
    "name_list = ['Bob', 'Andy', 'Michael', 'Tony']\n",
    "d = np.random.choice(name_list, size=(3,3), p=[1,0,0,0])\n",
    "p is for probability: 1 is for Bob and 0 for all rest mean 100% probability array will just have Bob in it"
   ]
  },
  {
   "cell_type": "markdown",
   "metadata": {},
   "source": [
    "### rand only gives numbers beteen 0-1\n",
    "Creates array and populates with random float numbers between 0.0 to 1.0 (uniformly distributed).\n",
    "Creates 1D, 2D, 3D arrays based on number of arguments\n",
    "\n"
   ]
  },
  {
   "cell_type": "code",
   "execution_count": 5,
   "metadata": {},
   "outputs": [
    {
     "data": {
      "text/plain": [
       "array([[[0.575665  , 0.9719573 , 0.28634772],\n",
       "        [0.66286225, 0.23847862, 0.34676021]],\n",
       "\n",
       "       [[0.43468287, 0.80970033, 0.65172955],\n",
       "        [0.76314078, 0.99401535, 0.66559951]],\n",
       "\n",
       "       [[0.03898243, 0.62843497, 0.91460532],\n",
       "        [0.77346222, 0.49977025, 0.46668515]],\n",
       "\n",
       "       [[0.0681859 , 0.96676098, 0.55807774],\n",
       "        [0.20293955, 0.4698442 , 0.30935945]],\n",
       "\n",
       "       [[0.60127068, 0.89792726, 0.13507628],\n",
       "        [0.42439546, 0.39550485, 0.09403538]],\n",
       "\n",
       "       [[0.26710614, 0.30307135, 0.40983907],\n",
       "        [0.40368934, 0.62577792, 0.81291779]],\n",
       "\n",
       "       [[0.88869472, 0.083325  , 0.37187058],\n",
       "        [0.20247516, 0.34939095, 0.55576726]],\n",
       "\n",
       "       [[0.04651846, 0.15956575, 0.64424239],\n",
       "        [0.65774949, 0.70701037, 0.64744825]]])"
      ]
     },
     "execution_count": 5,
     "metadata": {},
     "output_type": "execute_result"
    }
   ],
   "source": [
    "import numpy as np\n",
    "import matplotlib.pyplot as plt\n",
    "%matplotlib inline\n",
    "\n",
    "one_dim = np.random.rand(8, 2, 3)\n",
    "one_dim"
   ]
  },
  {
   "cell_type": "markdown",
   "metadata": {},
   "source": [
    "### randn gives \n",
    "Creates array and populates with random float numbers between 0.0 to 1.0 (normally distributed: standard deviation=1)."
   ]
  },
  {
   "cell_type": "code",
   "execution_count": 16,
   "metadata": {},
   "outputs": [
    {
     "data": {
      "text/plain": [
       "(array([  1.,   0.,   4.,  28.,  76., 151., 127.,  84.,  24.,   5.]),\n",
       " array([-4.31473318, -3.58915893, -2.86358468, -2.13801044, -1.41243619,\n",
       "        -0.68686194,  0.03871231,  0.76428656,  1.48986081,  2.21543505,\n",
       "         2.9410093 ]),\n",
       " <a list of 10 Patch objects>)"
      ]
     },
     "execution_count": 16,
     "metadata": {},
     "output_type": "execute_result"
    },
    {
     "data": {
      "image/png": "[encoded data removed]",
      "text/plain": [
       "<Figure size 432x288 with 1 Axes>"
      ]
     },
     "metadata": {
      "needs_background": "light"
     },
     "output_type": "display_data"
    }
   ],
   "source": [
    "x = np.random.randn(500, 1)\n",
    "plt.hist(x)\n"
   ]
  },
  {
   "cell_type": "markdown",
   "metadata": {},
   "source": [
    "### np.random.randint(low, high, size)\n",
    "Generate random integers from low (inclusive) to high (exclusive). Returns array of specified shape and fills with random integers from low to high\n"
   ]
  },
  {
   "cell_type": "code",
   "execution_count": 22,
   "metadata": {},
   "outputs": [
    {
     "data": {
      "text/plain": [
       "array([[1, 0],\n",
       "       [1, 2]])"
      ]
     },
     "execution_count": 22,
     "metadata": {},
     "output_type": "execute_result"
    }
   ],
   "source": [
    "arr1 = np.random.randint(0, 3, size=(2,2))\n",
    "arr1"
   ]
  },
  {
   "cell_type": "markdown",
   "metadata": {},
   "source": [
    "b = np.random.rand(2, 3, 3) add another 3, 3 dimension array inside\n",
    "b = np.random.randn(2, 3, 3) add n to show negative numbers instead of positive"
   ]
  },
  {
   "cell_type": "markdown",
   "metadata": {},
   "source": [
    "### random.uniform() gives number greater than 1"
   ]
  },
  {
   "cell_type": "markdown",
   "metadata": {},
   "source": []
  },
  {
   "cell_type": "markdown",
   "metadata": {},
   "source": [
    "# np.random.sampling([size])\n",
    "This function is used to generate random float numbers in the half open interval [0.0 and 1.0].\n",
    "Difference between np.random.rand and np.random.sample is just how the input is inserted. .rand takes in (x, x) and .random.sample takes tuple ((x,x))"
   ]
  },
  {
   "cell_type": "code",
   "execution_count": 28,
   "metadata": {},
   "outputs": [
    {
     "data": {
      "text/plain": [
       "array([[0.06107376, 0.69955477, 0.96399352],\n",
       "       [0.91718673, 0.27453835, 0.1675411 ]])"
      ]
     },
     "execution_count": 28,
     "metadata": {},
     "output_type": "execute_result"
    }
   ],
   "source": [
    "y = np.random.sample((2,3))\n",
    "y"
   ]
  },
  {
   "cell_type": "markdown",
   "metadata": {},
   "source": [
    "# np.random.normal (loc=0, scale=1.0, size=none) Gaussian distribution\n",
    "loc = mean centre of distribution, scale=standard deviation, size=output shape\n"
   ]
  },
  {
   "cell_type": "markdown",
   "metadata": {},
   "source": [
    "# np.random.uniform(low, high, size)\n",
    "Generates n-dimensional array of float numbers in the range of low, high."
   ]
  },
  {
   "cell_type": "markdown",
   "metadata": {},
   "source": []
  },
  {
   "cell_type": "markdown",
   "metadata": {},
   "source": [
    "# np.random.shuffle(seq)\n",
    "modify a sequence in place by shuffling its contents randomly. function only shuffles the array along the first axis of a multi-dimensional array. The orders of sub arrays is changed but their contents stay the same"
   ]
  },
  {
   "cell_type": "markdown",
   "metadata": {},
   "source": [
    "# np.random.permutation(n)\n",
    "used to randomly permute a sequence or return a permuted range. if n is an integer, randomly permute np.arange(n). if n is an array, makes a copy and shuffles the elements randomly "
   ]
  },
  {
   "cell_type": "code",
   "execution_count": null,
   "metadata": {},
   "outputs": [],
   "source": []
  },
  {
   "cell_type": "markdown",
   "metadata": {},
   "source": [
    "# np.random.seed()\n",
    "used to seed the generator. called when randomstate is initialized.\n",
    "Can be called again to re-seed the generator i.e. same data will be generated on every envokation\n",
    "\n",
    "## Part of project is be able to seed the algorithm to get reproduceable results - se Brian's video on Seed 2 - see page on numpy.org quick start to find out how to set the seed\n",
    "\n",
    "### Permuted Congruential Generator (64-bit, PCG64)"
   ]
  },
  {
   "cell_type": "markdown",
   "metadata": {},
   "source": []
  },
  {
   "cell_type": "raw",
   "metadata": {},
   "source": [
    "Random sampling is a technique used so that each element has a equal probability of being chosen"
   ]
  },
  {
   "cell_type": "raw",
   "metadata": {},
   "source": []
  },
  {
   "cell_type": "markdown",
   "metadata": {},
   "source": [
    "### 2 Simple Random Data\n"
   ]
  },
  {
   "cell_type": "code",
   "execution_count": null,
   "metadata": {},
   "outputs": [],
   "source": []
  },
  {
   "cell_type": "code",
   "execution_count": null,
   "metadata": {},
   "outputs": [],
   "source": []
  },
  {
   "cell_type": "code",
   "execution_count": null,
   "metadata": {},
   "outputs": [],
   "source": []
  }
 ],
 "metadata": {
  "kernelspec": {
   "display_name": "Python 3",
   "language": "python",
   "name": "python3"
  },
  "language_info": {
   "codemirror_mode": {
    "name": "ipython",
    "version": 3
   },
   "file_extension": ".py",
   "mimetype": "text/x-python",
   "name": "python",
   "nbconvert_exporter": "python",
   "pygments_lexer": "ipython3",
   "version": "3.8.3"
  }
 },
 "nbformat": 4,
 "nbformat_minor": 4
}
