{
 "cells": [
  {
   "cell_type": "markdown",
   "metadata": {},
   "source": [
    "# Programming for Data Analysis: Investigation of numpy.random package"
   ]
  },
  {
   "cell_type": "markdown",
   "metadata": {},
   "source": [
    "Author: Julian Dunne g00267940@gmit.ie"
   ]
  },
  {
   "cell_type": "markdown",
   "metadata": {},
   "source": [
    "1 - create jupyter notebook explaining the use of the numpy.random package\n",
    "\n",
    "2 - explain the use of the \"Simple random data\" and \"Permutations\" functions\n",
    "\n",
    "3 - explain the use of at least 5 \"Distributions\" functions\n",
    "\n",
    "4 - explain the use of seeds in generating pseudorandom numbers"
   ]
  },
  {
   "cell_type": "markdown",
   "metadata": {},
   "source": [
    "Don't forget to include READ.ME file which only needs to include an explanation of what is contained in the repository and how to run the Jupyter Notebook  "
   ]
  },
  {
   "cell_type": "markdown",
   "metadata": {},
   "source": [
    "# 1) The purpose of numpy.random\n",
    "Numpy is a python package used for scientific and numerical computing. Numpy stores data in multidimensional arrays and is similiar to Python 'Lists' however it is more efficient at storing and accessing this data https://www.educba.com/introduction-to-numpy/?source=leftnav.\n",
    "\n",
    "Numpy can access this information faster due to the data within these multidimensional arrays being fixed types i.e. float, integer or string. Numpy arrays does not contain different datatypes as can be used in Python 'Lists' which means Numpy does not check for datatypes when analysing data. This reduces the time required by Numpy to retrieve and analyse  data which is beneficial when analysing large amounts of data \n",
    "https://www.youtube.com/watch?v=GB9ByFAIAH4&t=1751s.\n"
   ]
  },
  {
   "cell_type": "markdown",
   "metadata": {},
   "source": [
    "<img src=\"numpy_array.png\">\n",
    "<br>\n",
    "\n",
    "<!--image from https://fgnt.github.io/python_crashkurs_doc/_images/numpy_array_t.png -->"
   ]
  },
  {
   "cell_type": "markdown",
   "metadata": {},
   "source": [
    "### Pseudo-random data:\n",
    "The Numpy library has the ability to simulate random arrays of data, shuffle this data and to draw samples from this data based on specified distributions, all of which will be looked at further as part of this assignment. \n",
    "\n",
    "When introducing the Numpy random module it is interesting to note that the data generated using this method is not actually random. Computers work on programs which are a definitive set of instructions so an algorithm within the program must generate the random number as well. If there is a program to generate a random number it can be predicted. Meaning it is not a truly random number. Random numbers generated this way are called pseudo random. https://www.w3schools.com/python/numpy_random.asp\n"
   ]
  },
  {
   "cell_type": "markdown",
   "metadata": {},
   "source": [
    "### Permuted Congruential Generator (PCG-64)\n",
    "Numpy produces pseudo random numbers using combinations of a BitGenerator to create sequences and a Generator to use those sequences to sample from different statistical distributions http://www.numpy.org.cn/en/reference/routines/random.html#quick-start. \n",
    "\n",
    "BitGenerators do not directly provide random numbers and only contain methods used for seeding, getting or setting the state, jumping or advancing the state, and for accessing low-level wrappers for consumption by code that can efficiently access the functions provided https://numpy.org/devdocs/reference/random/bit_generators/index.html.\n",
    "     \n",
    "The Generator provides access to a wide range of distributions. The Generator relies on an the BitGenerator to manage state and generate the random bits, which are then transformed into random values from specific distributions. This structure allows alternative bit generators to be used with little code duplication. The default BitGenerator used by Generator is PCG64 https://numpy.org/devdocs/reference/random/generator.html.\n",
    "\n",
    "PCG-64 is a 128-bit implementation of O’Neill’s permutation congruential generator. PCG-64 has a period of 2^{128} and supports advancing an arbitrary number of steps as well as 2^{127} streams https://numpy.org/devdocs/reference/random/bit_generators/pcg64.html. The Permuted Congruential Generator uses a linear congruential generator as the state-transition function. Linear congruential generators are known to be statistically weak, but PCG's state transition function only does half the work. PCG uses a technique called permutation functions on tuples to produce output that is much more random than the random number generators internal state. PCG's output functions are what gives it its excellent statistical performance and makes it hard predict from its output https://www.pcg-random.org/.\n",
    "\n",
    "The numpy.random package serves many purposes, some of which will be looked at in greater detail in the following sections.\n",
    "Some applications where random module is used include: \n",
    "\n",
    "1) Generate pseudo-random data which can be used to test machine learning models\n",
    "\n",
    "2) Create different types of data using a range of distributions as part of statistical analysis on a data group"
   ]
  },
  {
   "cell_type": "markdown",
   "metadata": {},
   "source": [
    "## Importing the required libraries"
   ]
  },
  {
   "cell_type": "code",
   "execution_count": null,
   "metadata": {},
   "outputs": [],
   "source": [
    "#Import numpy and matplotlib libraries\n",
    "import pandas as pd\n",
    "import numpy as np\n",
    "from numpy import random\n",
    "import matplotlib.pyplot as plt\n",
    "\n",
    "%matplotlib inline"
   ]
  },
  {
   "cell_type": "markdown",
   "metadata": {},
   "source": [
    "# 2) Simple Random Data and Permutations Functions\n",
    "\n",
    "Numpy has a number of functions for generating libraries of pseudo random data. Using built-in methods which will be discussed in the section below it can randomly create and configure this pseudo random data. These are numpy's Simple Random Data methods:"
   ]
  },
  {
   "cell_type": "code",
   "execution_count": 2,
   "metadata": {},
   "outputs": [],
   "source": [
    "#Import the numpy library to begin\n",
    "import numpy as np"
   ]
  },
  {
   "cell_type": "markdown",
   "metadata": {},
   "source": [
    "## i) random.default_rng().integers() \n",
    "The random integers method replaces randomstate.randint method used in previous versions on numpy. Returns an array of random integers that are from the “discrete uniform” distribution for a specified dtype.\n",
    "https://numpy.org/doc/stable/reference/random/generated/numpy.random.Generator.integers.html#numpy.random.Generator.integers"
   ]
  },
  {
   "cell_type": "code",
   "execution_count": 3,
   "metadata": {},
   "outputs": [
    {
     "data": {
      "text/plain": [
       "array([1, 0, 0, 1], dtype=int64)"
      ]
     },
     "execution_count": 3,
     "metadata": {},
     "output_type": "execute_result"
    }
   ],
   "source": [
    "# Generate a random array of 0 and 1 integers\n",
    "rng_integers = np.random.default_rng().integers(2, size=(4))\n",
    "rng_integers"
   ]
  },
  {
   "cell_type": "code",
   "execution_count": null,
   "metadata": {},
   "outputs": [],
   "source": [
    "# Code does not work - needs to be looked at again before submission\n",
    "#Generate a signal using binary numbers using rng_integers generated above\n",
    "sym_len = 8\n",
    "rng_n = rng_integers\n",
    "\n",
    "rng_n[np.where(rng_n == 1)] = 1\n",
    "rng_n[np.where(rng_n == 0)] = 0\n",
    "\n",
    "plt.stem(rng_n, use_line_collection=True)\n",
    "\n",
    "#generate signal\n",
    "sig = np.zeros(sym_len * rng_n)\n",
    "\n",
    "id_n = np.where(rng_n == 1)\n",
    "\n",
    "for i in id_n[0]:\n",
    "    temp = int(i * sym_len)\n",
    "    sig[temp:temp+sym_len] = 1\n",
    "    \n",
    "\n",
    "plt.plot(sig)\n",
    "\n",
    "# https://www.youtube.com/watch?v=XCDvWF8XSC4"
   ]
  },
  {
   "cell_type": "markdown",
   "metadata": {},
   "source": [
    "## ii) random.default_rng().random()\n",
    "The random random method replaces randomstate.random_sample method used in previous versions on numpy. Returns an array of random floats from the “continuous uniform” distribution over the stated interval. \n",
    "https://numpy.org/doc/stable/reference/random/generated/numpy.random.Generator.random.html#numpy.random.Generator.random\n",
    "\n",
    "Random.random() can be used to create as many floating-point numbers in as many dimensions as is required. All values will be in the range 0.0 - 1.0 (low, high). Note that 1.0 is exclusive meaning all values are below 1.0."
   ]
  },
  {
   "cell_type": "code",
   "execution_count": 4,
   "metadata": {},
   "outputs": [
    {
     "data": {
      "text/plain": [
       "0.11018090656130242"
      ]
     },
     "execution_count": 4,
     "metadata": {},
     "output_type": "execute_result"
    }
   ],
   "source": [
    "rng_float = np.random.default_rng().random()\n",
    "rng_float"
   ]
  },
  {
   "cell_type": "code",
   "execution_count": 5,
   "metadata": {},
   "outputs": [
    {
     "data": {
      "text/plain": [
       "array([[0.26878353, 0.63830462],\n",
       "       [0.01676694, 0.92881049],\n",
       "       [0.43641589, 0.55624987],\n",
       "       [0.84519323, 0.54539007],\n",
       "       [0.6946869 , 0.28254847]])"
      ]
     },
     "execution_count": 5,
     "metadata": {},
     "output_type": "execute_result"
    }
   ],
   "source": [
    "rng_multidim_array = np.random.default_rng().random((5,2))\n",
    "rng_multidim_array"
   ]
  },
  {
   "cell_type": "markdown",
   "metadata": {},
   "source": [
    "## iii) random.default_rng().choice()\n",
    "Generates a random sample from a given 1-D array which can be of a single data type such as either: integer, float or string. https://numpy.org/doc/stable/reference/random/generated/numpy.random.Generator.choice.html#numpy.random.Generator.choice\n",
    "\n",
    "There are several applications for the random choice method:\n",
    "\n",
    "1) Generate a random uniform sample with(out) replacement\n",
    "\n",
    "2) Generate a random non-uniform sample using probability with(out) replacement\n",
    "\n",
    "3) The above can be applied to an arbitrary array-like instead of just integers e.g. dtype=string"
   ]
  },
  {
   "cell_type": "code",
   "execution_count": 6,
   "metadata": {},
   "outputs": [
    {
     "data": {
      "text/plain": [
       "array([5, 0, 4, 7, 3, 9], dtype=int64)"
      ]
     },
     "execution_count": 6,
     "metadata": {},
     "output_type": "execute_result"
    }
   ],
   "source": [
    "# Generate a random uniform sample without replacement\n",
    "rng_choice_1 = np.random.default_rng().choice(10, 6, replace=False)\n",
    "rng_choice_1"
   ]
  },
  {
   "cell_type": "code",
   "execution_count": 7,
   "metadata": {},
   "outputs": [
    {
     "data": {
      "text/plain": [
       "array([3, 3, 3, 3, 3, 3, 3, 3, 3, 3], dtype=int64)"
      ]
     },
     "execution_count": 7,
     "metadata": {},
     "output_type": "execute_result"
    }
   ],
   "source": [
    "# Generate a random non-uniform sample using probability 'p' with replacement\n",
    "rng_choice_2 = np.random.default_rng().choice(5, 10, p=[0.2, 0, 0, 0.8, 0])\n",
    "rng_choice_2"
   ]
  },
  {
   "cell_type": "markdown",
   "metadata": {},
   "source": [
    "## Human versus computer random choice guessing game"
   ]
  },
  {
   "cell_type": "markdown",
   "metadata": {},
   "source": [
    "In this game a letter is chosen by the computer from a list and stored in the variable the_winning_letter.\n",
    "You will will play against the computer to see who picks the correct letter first.\n",
    "If you guess wrong and the computer guesses wrong then you will win by default!"
   ]
  },
  {
   "cell_type": "markdown",
   "metadata": {},
   "source": [
    "<img src=\"lets_play.jpg\">\n",
    "<br>\n",
    "\n",
    "<!--image from https://www.shutterstock.com/image-vector/lets-play-on-colorful-banner-1808027134 -->"
   ]
  },
  {
   "cell_type": "code",
   "execution_count": 8,
   "metadata": {
    "scrolled": true
   },
   "outputs": [],
   "source": [
    "#first import the library\n",
    "import numpy as np"
   ]
  },
  {
   "cell_type": "markdown",
   "metadata": {},
   "source": [
    "Using random choice method the computer picks the winning letter from the list and stores it in a variable."
   ]
  },
  {
   "cell_type": "code",
   "execution_count": 9,
   "metadata": {},
   "outputs": [],
   "source": [
    "list_of_letters = ['a', 'b', 'c',]\n",
    "the_winning_letter= np.random.default_rng().choice(list_of_letters)"
   ]
  },
  {
   "cell_type": "markdown",
   "metadata": {},
   "source": [
    "First guess is for you.\n",
    "\n",
    "Note: Your guess will then removed from the list so it is not chosen again."
   ]
  },
  {
   "cell_type": "code",
   "execution_count": 10,
   "metadata": {},
   "outputs": [],
   "source": [
    "human_guess = 'b'\n",
    "list_of_letters.remove(human_guess)"
   ]
  },
  {
   "cell_type": "markdown",
   "metadata": {},
   "source": [
    "Program checks to see if you have guessed correctly. If you guess correctly first time then the kernel will restart and clear output as there is no reason to continue. If your guess is incorrect then continue the game. \n",
    "\n",
    "To restart and clear kernel output a web search found https://stackoverflow.com/questions/37472274/jupyter-disable-restart-kernel-warning/47055462#47055462."
   ]
  },
  {
   "cell_type": "code",
   "execution_count": 11,
   "metadata": {},
   "outputs": [
    {
     "name": "stdout",
     "output_type": "stream",
     "text": [
      "Unlucky, not this time.\n"
     ]
    }
   ],
   "source": [
    "if human_guess != the_winning_letter:\n",
    "    print(\"Unlucky, not this time.\")\n",
    "else:\n",
    "    print(\"That was quick\")\n",
    "    "
   ]
  },
  {
   "cell_type": "code",
   "execution_count": null,
   "metadata": {},
   "outputs": [],
   "source": [
    "#Only run this code block if you incorectly guessed the letter as it will restart the kernel and clear output\n",
    "#allowing user to play the game again\n",
    "#if the kernel is restarted you must import numpy library again to execute any code\n",
    "from IPython.core.display import HTML\n",
    "HTML(\"<script>Jupyter.notebook.kernel.restart()</script>\")"
   ]
  },
  {
   "cell_type": "markdown",
   "metadata": {},
   "source": [
    "The next guess is for the computer. Again the letter guessed is removed from the list."
   ]
  },
  {
   "cell_type": "code",
   "execution_count": 12,
   "metadata": {},
   "outputs": [],
   "source": [
    "comp_guess = np.random.default_rng().choice(list_of_letters)\n",
    "list_of_letters.remove(comp_guess)"
   ]
  },
  {
   "cell_type": "markdown",
   "metadata": {},
   "source": [
    "Program checks to see if the computer has guessed correctly."
   ]
  },
  {
   "cell_type": "code",
   "execution_count": 13,
   "metadata": {},
   "outputs": [
    {
     "name": "stdout",
     "output_type": "stream",
     "text": [
      "Computer wins!\n"
     ]
    }
   ],
   "source": [
    "if comp_guess == the_winning_letter:\n",
    "    print(\"Computer wins!\")\n",
    "else:\n",
    "    print(\"You have beaten the computer by default as this is the last letter left: \", list_of_letters)"
   ]
  },
  {
   "cell_type": "markdown",
   "metadata": {},
   "source": [
    "\n",
    "<img src=\"game_over.jpg\">\n",
    "<br>\n",
    "\n",
    "<!--image from https://www.shutterstock.com/image-vector/decorative-game-over-text-fashion-poster-1307904490 -->"
   ]
  },
  {
   "cell_type": "markdown",
   "metadata": {},
   "source": [
    "## iv) np.random.default_rng().bytes()\n",
    "Returns string of length(length) based on specified number of random bytes(len).\n",
    "https://numpy.org/doc/stable/reference/random/generated/numpy.random.Generator.bytes.html#numpy.random.Generator.bytes"
   ]
  },
  {
   "cell_type": "code",
   "execution_count": 14,
   "metadata": {},
   "outputs": [
    {
     "data": {
      "text/plain": [
       "b'^c'"
      ]
     },
     "execution_count": 14,
     "metadata": {},
     "output_type": "execute_result"
    }
   ],
   "source": [
    "u=np.random.bytes(2)\n",
    "u"
   ]
  },
  {
   "cell_type": "code",
   "execution_count": 15,
   "metadata": {},
   "outputs": [
    {
     "data": {
      "text/plain": [
       "bytes"
      ]
     },
     "execution_count": 15,
     "metadata": {},
     "output_type": "execute_result"
    }
   ],
   "source": [
    "#The type returned is shown as bytes\n",
    "s = u\n",
    "type(s)"
   ]
  },
  {
   "cell_type": "markdown",
   "metadata": {},
   "source": [
    "## Permutation\n",
    "Randomly permutes a sequence or to return a permuted range. Permute method allows user to pseudo-randomly change to element order in an array or to change the row order without changeing the element order for instances where an array contains more than one row. https://numpy.org/doc/stable/reference/random/generated/numpy.random.Generator.permutation.html#numpy.random.Generator.permutation.  "
   ]
  },
  {
   "cell_type": "code",
   "execution_count": 16,
   "metadata": {},
   "outputs": [
    {
     "data": {
      "text/plain": [
       "array([5, 3, 0, 4, 6, 1, 2, 8, 9, 7])"
      ]
     },
     "execution_count": 16,
     "metadata": {},
     "output_type": "execute_result"
    }
   ],
   "source": [
    "#change the order of the array - instead on return ([0, 1, 2, 3, 4, 5, 6, 7, 8, 9])\n",
    "rng_permute1 = np.random.default_rng().permutation(10)\n",
    "rng_permute1"
   ]
  },
  {
   "cell_type": "code",
   "execution_count": 17,
   "metadata": {},
   "outputs": [
    {
     "data": {
      "text/plain": [
       "array([[[ 6,  7,  8],\n",
       "        [ 9, 10, 11]],\n",
       "\n",
       "       [[ 0,  1,  2],\n",
       "        [ 3,  4,  5]]])"
      ]
     },
     "execution_count": 17,
     "metadata": {},
     "output_type": "execute_result"
    }
   ],
   "source": [
    "#change the order of the rows in the array without changing the order of the elements in each row\n",
    "#Notice that for multivariate arrays only the row in each changes with itself e.g. [0,1,2] > [3,4,5]\n",
    "arr_permute = np.arange(12).reshape((2, 2, 3))\n",
    "rng_permute2 = np.random.default_rng().permutation(arr_permute)\n",
    "rng_permute2"
   ]
  },
  {
   "cell_type": "markdown",
   "metadata": {},
   "source": [
    "## Shuffle\n",
    "Returns a modified sequence by shuffling its contents pseudo-randomly. Method only shuffles the array along the first axis of a multi-dimensional array. The orders of sub arrays is changed but elements within each remain the same."
   ]
  },
  {
   "cell_type": "code",
   "execution_count": 18,
   "metadata": {},
   "outputs": [
    {
     "data": {
      "text/plain": [
       "array([[0, 2, 1],\n",
       "       [3, 5, 4],\n",
       "       [6, 8, 7]])"
      ]
     },
     "execution_count": 18,
     "metadata": {},
     "output_type": "execute_result"
    }
   ],
   "source": [
    "#Elements in each row are the same but are returned in a modified sequence\n",
    "arr_sh1 = np.arange(9).reshape((3, 3))\n",
    "rng_shuffle1 = np.random.default_rng().shuffle(arr_sh1, axis=1)\n",
    "arr_sh1"
   ]
  },
  {
   "cell_type": "code",
   "execution_count": 19,
   "metadata": {},
   "outputs": [
    {
     "data": {
      "text/plain": [
       "array([[[ 4,  5,  6,  7],\n",
       "        [ 0,  1,  2,  3]],\n",
       "\n",
       "       [[12, 13, 14, 15],\n",
       "        [ 8,  9, 10, 11]]])"
      ]
     },
     "execution_count": 19,
     "metadata": {},
     "output_type": "execute_result"
    }
   ],
   "source": [
    "#Method on shuffles the first axis of a multidimensional array. Elements in each row stay in the same sequence\n",
    "arr_sh2 = np.arange(16).reshape((2, 2, 4))\n",
    "rng_shuffle2 = np.random.default_rng().shuffle(arr_sh2, axis=1)\n",
    "arr_sh2"
   ]
  },
  {
   "cell_type": "markdown",
   "metadata": {},
   "source": [
    "## Apply the permutation method to a pandas dataframe"
   ]
  },
  {
   "cell_type": "code",
   "execution_count": 20,
   "metadata": {},
   "outputs": [],
   "source": [
    "#import the necessary libraries:\n",
    "import numpy as np\n",
    "import pandas as pd"
   ]
  },
  {
   "cell_type": "code",
   "execution_count": 21,
   "metadata": {},
   "outputs": [
    {
     "data": {
      "text/html": [
       "<div>\n",
       "<style scoped>\n",
       "    .dataframe tbody tr th:only-of-type {\n",
       "        vertical-align: middle;\n",
       "    }\n",
       "\n",
       "    .dataframe tbody tr th {\n",
       "        vertical-align: top;\n",
       "    }\n",
       "\n",
       "    .dataframe thead th {\n",
       "        text-align: right;\n",
       "    }\n",
       "</style>\n",
       "<table border=\"1\" class=\"dataframe\">\n",
       "  <thead>\n",
       "    <tr style=\"text-align: right;\">\n",
       "      <th></th>\n",
       "      <th>Identifier</th>\n",
       "      <th>country</th>\n",
       "      <th>city</th>\n",
       "      <th>language</th>\n",
       "    </tr>\n",
       "  </thead>\n",
       "  <tbody>\n",
       "    <tr>\n",
       "      <th>0</th>\n",
       "      <td>Ire</td>\n",
       "      <td>Ireland</td>\n",
       "      <td>Dublin</td>\n",
       "      <td>english</td>\n",
       "    </tr>\n",
       "    <tr>\n",
       "      <th>1</th>\n",
       "      <td>Hun</td>\n",
       "      <td>Hungary</td>\n",
       "      <td>Budapest</td>\n",
       "      <td>hungarian</td>\n",
       "    </tr>\n",
       "    <tr>\n",
       "      <th>2</th>\n",
       "      <td>Ger</td>\n",
       "      <td>Germany</td>\n",
       "      <td>Berlin</td>\n",
       "      <td>german</td>\n",
       "    </tr>\n",
       "    <tr>\n",
       "      <th>3</th>\n",
       "      <td>Swe</td>\n",
       "      <td>Sweden</td>\n",
       "      <td>Stockholm</td>\n",
       "      <td>english</td>\n",
       "    </tr>\n",
       "    <tr>\n",
       "      <th>4</th>\n",
       "      <td>Fra</td>\n",
       "      <td>France</td>\n",
       "      <td>Paris</td>\n",
       "      <td>french</td>\n",
       "    </tr>\n",
       "  </tbody>\n",
       "</table>\n",
       "</div>"
      ],
      "text/plain": [
       "  Identifier  country       city   language\n",
       "0        Ire  Ireland     Dublin    english\n",
       "1        Hun  Hungary   Budapest  hungarian\n",
       "2        Ger  Germany     Berlin     german\n",
       "3        Swe   Sweden  Stockholm    english\n",
       "4        Fra   France      Paris     french"
      ]
     },
     "execution_count": 21,
     "metadata": {},
     "output_type": "execute_result"
    }
   ],
   "source": [
    "#Create a pandas dataframe from the random_permutations.txt file (created by author just for example)\n",
    "data = pd.read_csv('random_permutations.txt', delimiter=r\",\")\n",
    "data.set_index(['Identifier', 'country', 'city', 'language'])\n",
    "data"
   ]
  },
  {
   "cell_type": "code",
   "execution_count": 22,
   "metadata": {},
   "outputs": [],
   "source": [
    "#pseudo-randomly change order of nrows using permute method\n",
    "#generate a new row order called permuted_row\n",
    "nrows = data.shape[0]\n",
    "permuted_row = np.random.default_rng().permutation(nrows)"
   ]
  },
  {
   "cell_type": "code",
   "execution_count": 23,
   "metadata": {},
   "outputs": [
    {
     "data": {
      "text/plain": [
       "array([0, 1, 2, 4, 3])"
      ]
     },
     "execution_count": 23,
     "metadata": {},
     "output_type": "execute_result"
    }
   ],
   "source": [
    "#New order of rows to be displayed in dataframe\n",
    "permuted_row"
   ]
  },
  {
   "cell_type": "code",
   "execution_count": 24,
   "metadata": {},
   "outputs": [
    {
     "data": {
      "text/html": [
       "<div>\n",
       "<style scoped>\n",
       "    .dataframe tbody tr th:only-of-type {\n",
       "        vertical-align: middle;\n",
       "    }\n",
       "\n",
       "    .dataframe tbody tr th {\n",
       "        vertical-align: top;\n",
       "    }\n",
       "\n",
       "    .dataframe thead th {\n",
       "        text-align: right;\n",
       "    }\n",
       "</style>\n",
       "<table border=\"1\" class=\"dataframe\">\n",
       "  <thead>\n",
       "    <tr style=\"text-align: right;\">\n",
       "      <th></th>\n",
       "      <th>Identifier</th>\n",
       "      <th>country</th>\n",
       "      <th>city</th>\n",
       "      <th>language</th>\n",
       "    </tr>\n",
       "  </thead>\n",
       "  <tbody>\n",
       "    <tr>\n",
       "      <th>0</th>\n",
       "      <td>Ire</td>\n",
       "      <td>Ireland</td>\n",
       "      <td>Dublin</td>\n",
       "      <td>english</td>\n",
       "    </tr>\n",
       "    <tr>\n",
       "      <th>1</th>\n",
       "      <td>Hun</td>\n",
       "      <td>Hungary</td>\n",
       "      <td>Budapest</td>\n",
       "      <td>hungarian</td>\n",
       "    </tr>\n",
       "    <tr>\n",
       "      <th>2</th>\n",
       "      <td>Ger</td>\n",
       "      <td>Germany</td>\n",
       "      <td>Berlin</td>\n",
       "      <td>german</td>\n",
       "    </tr>\n",
       "    <tr>\n",
       "      <th>4</th>\n",
       "      <td>Fra</td>\n",
       "      <td>France</td>\n",
       "      <td>Paris</td>\n",
       "      <td>french</td>\n",
       "    </tr>\n",
       "    <tr>\n",
       "      <th>3</th>\n",
       "      <td>Swe</td>\n",
       "      <td>Sweden</td>\n",
       "      <td>Stockholm</td>\n",
       "      <td>english</td>\n",
       "    </tr>\n",
       "  </tbody>\n",
       "</table>\n",
       "</div>"
      ],
      "text/plain": [
       "  Identifier  country       city   language\n",
       "0        Ire  Ireland     Dublin    english\n",
       "1        Hun  Hungary   Budapest  hungarian\n",
       "2        Ger  Germany     Berlin     german\n",
       "4        Fra   France      Paris     french\n",
       "3        Swe   Sweden  Stockholm    english"
      ]
     },
     "execution_count": 24,
     "metadata": {},
     "output_type": "execute_result"
    }
   ],
   "source": [
    "#Apply new order using the take function\n",
    "data.take(permuted_row)"
   ]
  },
  {
   "cell_type": "markdown",
   "metadata": {},
   "source": [
    "The code for the above dataframe permutation was written by the author with assistance from online searches including a video on Pandas DataFrames: Permutation https://www.youtube.com/watch?v=zr7O2egWKQc."
   ]
  }
 ],
 "metadata": {
  "kernelspec": {
   "display_name": "Python 3",
   "language": "python",
   "name": "python3"
  },
  "language_info": {
   "codemirror_mode": {
    "name": "ipython",
    "version": 3
   },
   "file_extension": ".py",
   "mimetype": "text/x-python",
   "name": "python",
   "nbconvert_exporter": "python",
   "pygments_lexer": "ipython3",
   "version": "3.8.3"
  }
 },
 "nbformat": 4,
 "nbformat_minor": 4
}
