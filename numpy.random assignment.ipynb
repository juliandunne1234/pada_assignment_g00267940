{
 "cells": [
  {
   "cell_type": "markdown",
   "metadata": {},
   "source": [
    "# <font color=blue>Programming for Data Analysis: Investigation of numpy.random package</font>"
   ]
  },
  {
   "cell_type": "markdown",
   "metadata": {},
   "source": [
    "Author: Julian Dunne g00267940@gmit.ie"
   ]
  },
  {
   "cell_type": "markdown",
   "metadata": {},
   "source": [
    "1 - create jupyter notebook explaining the use of the numpy.random package\n",
    "\n",
    "2 - explain the use of the \"Simple random data\" and \"Permutations\" functions\n",
    "\n",
    "3 - explain the use of at least 5 \"Distributions\" functions\n",
    "\n",
    "4 - explain the use of seeds in generating pseudorandom numbers\n",
    "\n",
    "5 - READ.ME file which only needs to include an explanation of what is contained in the repository and how to run the Jupyter Notebook\n",
    "\n"
   ]
  },
  {
   "cell_type": "markdown",
   "metadata": {},
   "source": [
    "***"
   ]
  },
  {
   "cell_type": "markdown",
   "metadata": {},
   "source": [
    "## <font color=blue>1) The purpose of numpy.random</font>\n",
    "Numpy is a python package used for scientific and numerical computing. Numpy stores data in multidimensional arrays and is similiar to Python 'Lists' however it is more efficient at storing and accessing this data https://www.educba.com/introduction-to-numpy/?source=leftnav.\n",
    "\n",
    "Numpy can access this information faster due to the data within these multidimensional arrays being fixed types i.e. float, integer or string. Numpy arrays does not contain different datatypes as can be used in Python 'Lists' which means Numpy does not check for datatypes when analysing data. This reduces the time required by Numpy to retrieve and analyse  data which is beneficial when analysing large amounts of data \n",
    "https://www.youtube.com/watch?v=GB9ByFAIAH4&t=1751s.\n"
   ]
  },
  {
   "cell_type": "markdown",
   "metadata": {},
   "source": [
    "<img src=\"numpy_array.png\" width=\"500\" height=\"500\">\n",
    "<br>\n",
    "\n",
    "<!--image from https://fgnt.github.io/python_crashkurs_doc/_images/numpy_array_t.png -->"
   ]
  },
  {
   "cell_type": "markdown",
   "metadata": {},
   "source": [
    "### <font color=blue>Pseudo-random data: </font>\n",
    "The Numpy library has the ability to simulate random arrays of data, shuffle this data and to draw samples from this data based on specified distributions, all of which will be looked at further as part of this assignment. \n",
    "\n",
    "When introducing the Numpy random module it is interesting to note that the data generated using this method is not actually random. Computers work on programs which are a definitive set of instructions so an algorithm within the program must generate the random number as well. If there is a program to generate a random number it can be predicted. Meaning it is not a truly random number. Random numbers generated this way are called pseudo random.\n",
    "\n",
    "https://www.w3schools.com/python/numpy_random.asp\n"
   ]
  },
  {
   "cell_type": "markdown",
   "metadata": {},
   "source": [
    "### <font color=blue>Permuted Congruential Generator (PCG-64)</font>\n",
    "Numpy produces pseudo random numbers using combinations of a BitGenerator to create sequences and a Generator to use those sequences to sample from different statistical distributions\n",
    "http://www.numpy.org.cn/en/reference/routines/random.html#quick-start. \n",
    "\n",
    "BitGenerators do not directly provide random numbers and only contain methods used for seeding, getting or setting the state, jumping or advancing the state, and for accessing low-level wrappers for consumption by code that can efficiently access the functions provided \n",
    "https://numpy.org/devdocs/reference/random/bit_generators/index.html.\n",
    "     \n",
    "The Generator provides access to a wide range of distributions. The Generator relies on an the BitGenerator to manage state and generate the random bits, which are then transformed into random values from specific distributions. This structure allows alternative bit generators to be used with little code duplication. The default BitGenerator used by Generator is PCG64 \n",
    "https://numpy.org/devdocs/reference/random/generator.html.\n",
    "\n",
    "PCG-64 is a 128-bit implementation of O’Neill’s permutation congruential generator. PCG-64 has a period of 2^{128} and supports advancing an arbitrary number of steps as well as 2^{127} streams https://numpy.org/devdocs/reference/random/bit_generators/pcg64.html. \n",
    "The Permuted Congruential Generator uses a linear congruential generator as the state-transition function. Linear congruential generators are known to be statistically weak, but PCG's state transition function only does half the work. PCG uses a technique called permutation functions on tuples to produce output that is much more random than the random number generators internal state. PCG's output functions are what gives it its excellent statistical performance and makes it hard predict from its output \n",
    "https://www.pcg-random.org/.\n",
    "\n",
    "The numpy.random package serves many purposes, some of which will be looked at in greater detail in the following sections.\n",
    "Some applications where random module is used include: \n",
    "\n",
    "1) Generate pseudo-random data which can be used to test machine learning models\n",
    "\n",
    "2) Create different types of data using a range of distributions as part of statistical analysis on a data group"
   ]
  },
  {
   "cell_type": "markdown",
   "metadata": {},
   "source": [
    "***"
   ]
  },
  {
   "cell_type": "markdown",
   "metadata": {},
   "source": [
    "## <font color=blue>2) Simple Random Data and Permutations Functions</font>\n",
    "\n",
    "Numpy has a number of functions for generating libraries of pseudo random data. Using built-in methods which will be discussed in the section below it can randomly create and configure this pseudo random data. These are numpy's Simple Random Data methods:"
   ]
  },
  {
   "cell_type": "code",
   "execution_count": 1,
   "metadata": {},
   "outputs": [],
   "source": [
    "#Import the numpy libraries to be used throughout this assignment\n",
    "import pandas as pd\n",
    "import numpy as np\n",
    "import matplotlib.pyplot as plt\n",
    "\n",
    "%matplotlib inline"
   ]
  },
  {
   "cell_type": "markdown",
   "metadata": {},
   "source": [
    "### <font color=blue>i) random.default_rng().integers()</font>\n",
    "The random integers method replaces randomstate.randint method used in previous versions on numpy. Returns an array of random integers that are from the “discrete uniform” distribution for a specified dtype.\n",
    "https://numpy.org/doc/stable/reference/random/generated/numpy.random.Generator.integers.html#numpy.random.Generator.integers"
   ]
  },
  {
   "cell_type": "code",
   "execution_count": 2,
   "metadata": {},
   "outputs": [
    {
     "data": {
      "text/plain": [
       "array([0, 1, 0, 1], dtype=int64)"
      ]
     },
     "execution_count": 2,
     "metadata": {},
     "output_type": "execute_result"
    }
   ],
   "source": [
    "# Generate a random array of 0 and 1 integers\n",
    "rng_integers = np.random.default_rng().integers(2, size=(4))\n",
    "rng_integers"
   ]
  },
  {
   "cell_type": "code",
   "execution_count": null,
   "metadata": {},
   "outputs": [],
   "source": [
    "# Code does not work - needs to be looked at again before submission\n",
    "#Generate a signal using binary numbers using rng_integers generated above\n",
    "sym_len = 8\n",
    "rng_n = rng_integers\n",
    "\n",
    "rng_n[np.where(rng_n == 1)] = 1\n",
    "rng_n[np.where(rng_n == 0)] = 0\n",
    "\n",
    "plt.stem(rng_n, use_line_collection=True)\n",
    "\n",
    "#generate signal\n",
    "sig = np.zeros(sym_len * rng_n)\n",
    "\n",
    "id_n = np.where(rng_n == 1)\n",
    "\n",
    "for i in id_n[0]:\n",
    "    temp = int(i * sym_len)\n",
    "    sig[temp:temp+sym_len] = 1\n",
    "    \n",
    "\n",
    "plt.plot(sig)\n",
    "\n",
    "# https://www.youtube.com/watch?v=XCDvWF8XSC4"
   ]
  },
  {
   "cell_type": "markdown",
   "metadata": {},
   "source": [
    "### <font color=blue>ii) random.default_rng().random()</font>\n",
    "The random random method replaces randomstate.random_sample method used in previous versions on numpy. Returns an array of random floats from the “continuous uniform” distribution over the stated interval\n",
    "\n",
    "https://numpy.org/doc/stable/reference/random/generated/numpy.random.Generator.random.html#numpy.random.Generator.random\n",
    "\n",
    "Random.random() can be used to create as many floating-point numbers in as many dimensions as is required. All values will be in the range 0.0 - 1.0 (low, high). Note that 1.0 is exclusive meaning all values are below 1.0."
   ]
  },
  {
   "cell_type": "code",
   "execution_count": 4,
   "metadata": {},
   "outputs": [
    {
     "data": {
      "text/plain": [
       "0.5350257796860576"
      ]
     },
     "execution_count": 4,
     "metadata": {},
     "output_type": "execute_result"
    }
   ],
   "source": [
    "#Generate pseudo-random float\n",
    "rng_float = np.random.default_rng().random()\n",
    "rng_float"
   ]
  },
  {
   "cell_type": "code",
   "execution_count": 5,
   "metadata": {},
   "outputs": [
    {
     "data": {
      "text/plain": [
       "array([[0.01401159, 0.8305492 ],\n",
       "       [0.37041168, 0.56335304],\n",
       "       [0.31882745, 0.2518903 ],\n",
       "       [0.69666433, 0.13294782],\n",
       "       [0.94906174, 0.60023457]])"
      ]
     },
     "execution_count": 5,
     "metadata": {},
     "output_type": "execute_result"
    }
   ],
   "source": [
    "#Generate pseudo-random multi-dimensional array of floats\n",
    "rng_multidim_array = np.random.default_rng().random((5,2))\n",
    "rng_multidim_array"
   ]
  },
  {
   "cell_type": "markdown",
   "metadata": {},
   "source": [
    "### <font color = blue>iii) random.default_rng().choice()</font>\n",
    "Generates a random sample from a given 1-D array which can be of a single data type such as either: integer, float or string https://numpy.org/doc/stable/reference/random/generated/numpy.random.Generator.choice.html#numpy.random.Generator.choice.\n",
    "\n",
    "There are several applications for the random choice method:\n",
    "* Generate a random uniform sample with(out) replacement\n",
    "* Generate a random non-uniform sample using probability with(out) replacement\n",
    "* The above can be applied to an arbitrary array-like instead of just integers e.g. dtype=string"
   ]
  },
  {
   "cell_type": "code",
   "execution_count": 6,
   "metadata": {},
   "outputs": [
    {
     "data": {
      "text/plain": [
       "array([4, 9, 2, 5, 8, 7], dtype=int64)"
      ]
     },
     "execution_count": 6,
     "metadata": {},
     "output_type": "execute_result"
    }
   ],
   "source": [
    "# Generate a random uniform sample without replacement\n",
    "rng_choice_1 = np.random.default_rng().choice(10, 6, replace=False)\n",
    "rng_choice_1"
   ]
  },
  {
   "cell_type": "code",
   "execution_count": 7,
   "metadata": {},
   "outputs": [
    {
     "data": {
      "text/plain": [
       "array([3, 3, 3, 3, 3, 0, 3, 0, 0, 3], dtype=int64)"
      ]
     },
     "execution_count": 7,
     "metadata": {},
     "output_type": "execute_result"
    }
   ],
   "source": [
    "# Generate a random non-uniform sample using probability 'p' with replacement\n",
    "rng_choice_2 = np.random.default_rng().choice(5, 10, p=[0.2, 0, 0, 0.8, 0])\n",
    "rng_choice_2"
   ]
  },
  {
   "cell_type": "markdown",
   "metadata": {},
   "source": [
    "### <font color=blue>Human versus computer random choice guessing game</font>\n",
    "\n",
    "In this game a letter is chosen by the computer from a list and stored in the variable the_winning_letter.\n",
    "You will will play against the computer to see who picks the correct letter first.\n",
    "If you guess wrong and the computer guesses wrong then you will win by default!"
   ]
  },
  {
   "cell_type": "markdown",
   "metadata": {},
   "source": [
    "<img src=\"lets_play.jpg\" width=\"500\" height=\"500\">\n",
    "<br>\n",
    "\n",
    "<!--image from https://www.shutterstock.com/image-vector/lets-play-on-colorful-banner-1808027134 -->"
   ]
  },
  {
   "cell_type": "markdown",
   "metadata": {},
   "source": [
    "Using random choice method the computer picks the winning letter from the list and stores it in a variable."
   ]
  },
  {
   "cell_type": "code",
   "execution_count": 9,
   "metadata": {},
   "outputs": [],
   "source": [
    "list_of_letters = ['a', 'b', 'c',]\n",
    "the_winning_letter= np.random.default_rng().choice(list_of_letters)"
   ]
  },
  {
   "cell_type": "markdown",
   "metadata": {},
   "source": [
    "First guess is for you.\n",
    "\n",
    "Note: Your guess will then removed from the list so it is not chosen again."
   ]
  },
  {
   "cell_type": "code",
   "execution_count": 10,
   "metadata": {},
   "outputs": [],
   "source": [
    "human_guess = 'a'\n",
    "list_of_letters.remove(human_guess)"
   ]
  },
  {
   "cell_type": "markdown",
   "metadata": {},
   "source": [
    "Program checks to see if you have guessed correctly. If you guess correctly first time then the kernel will restart and clear output as there is no reason to continue. If your guess is incorrect then continue the game. \n",
    "\n",
    "To restart and clear kernel output a web search found https://stackoverflow.com/questions/37472274/jupyter-disable-restart-kernel-warning/47055462#47055462."
   ]
  },
  {
   "cell_type": "code",
   "execution_count": 11,
   "metadata": {},
   "outputs": [
    {
     "name": "stdout",
     "output_type": "stream",
     "text": [
      "Unlucky, not this time.\n"
     ]
    }
   ],
   "source": [
    "if human_guess != the_winning_letter:\n",
    "    print(\"Unlucky, not this time.\")\n",
    "else:\n",
    "    print(\"That was quick\")\n",
    "    "
   ]
  },
  {
   "cell_type": "code",
   "execution_count": null,
   "metadata": {},
   "outputs": [
    {
     "data": {
      "text/html": [
       "<script>Jupyter.notebook.kernel.restart()</script>"
      ],
      "text/plain": [
       "<IPython.core.display.HTML object>"
      ]
     },
     "execution_count": 1,
     "metadata": {},
     "output_type": "execute_result"
    }
   ],
   "source": [
    "#Only run this code block if you incorectly guessed the letter as it will restart the kernel and clear output\n",
    "#allowing user to play the game again\n",
    "#if the kernel is restarted you must import numpy library again to execute any code\n",
    "from IPython.core.display import HTML\n",
    "HTML(\"<script>Jupyter.notebook.kernel.restart()</script>\")"
   ]
  },
  {
   "cell_type": "markdown",
   "metadata": {},
   "source": [
    "The next guess is for the computer. Again the letter guessed is removed from the list."
   ]
  },
  {
   "cell_type": "code",
   "execution_count": 12,
   "metadata": {},
   "outputs": [],
   "source": [
    "comp_guess = np.random.default_rng().choice(list_of_letters)\n",
    "list_of_letters.remove(comp_guess)"
   ]
  },
  {
   "cell_type": "markdown",
   "metadata": {},
   "source": [
    "Program checks to see if the computer has guessed correctly."
   ]
  },
  {
   "cell_type": "code",
   "execution_count": 13,
   "metadata": {},
   "outputs": [
    {
     "name": "stdout",
     "output_type": "stream",
     "text": [
      "Computer wins!\n"
     ]
    }
   ],
   "source": [
    "if comp_guess == the_winning_letter:\n",
    "    print(\"Computer wins!\")\n",
    "else:\n",
    "    print(\"You have beaten the computer by default as this is the last letter left: \", list_of_letters)"
   ]
  },
  {
   "cell_type": "markdown",
   "metadata": {},
   "source": [
    "\n",
    "<img src=\"game_over.jpg\" width=\"500\" height=\"500\">\n",
    "<br>\n",
    "\n",
    "<!--image from https://www.shutterstock.com/image-vector/decorative-game-over-text-fashion-poster-1307904490 -->"
   ]
  },
  {
   "cell_type": "markdown",
   "metadata": {},
   "source": [
    "### <font color=blue>iv) np.random.default_rng().bytes()</font>\n",
    "\n",
    "Returns string of length(length) based on specified number of random bytes(len) \n",
    "https://numpy.org/doc/stable/reference/random/generated/numpy.random.Generator.bytes.html#numpy.random.Generator.bytes."
   ]
  },
  {
   "cell_type": "code",
   "execution_count": 14,
   "metadata": {},
   "outputs": [
    {
     "data": {
      "text/plain": [
       "b'0f'"
      ]
     },
     "execution_count": 14,
     "metadata": {},
     "output_type": "execute_result"
    }
   ],
   "source": [
    "u=np.random.bytes(2)\n",
    "u"
   ]
  },
  {
   "cell_type": "code",
   "execution_count": 15,
   "metadata": {},
   "outputs": [
    {
     "data": {
      "text/plain": [
       "bytes"
      ]
     },
     "execution_count": 15,
     "metadata": {},
     "output_type": "execute_result"
    }
   ],
   "source": [
    "#The type returned is shown as bytes\n",
    "s = u\n",
    "type(s)"
   ]
  },
  {
   "cell_type": "markdown",
   "metadata": {},
   "source": [
    "### <font color=blue>Permutation</font>\n",
    "Randomly permutes a sequence or to return a permuted range. Permute method allows user to pseudo-randomly change to element order in an array or to change the row order without changeing the element order for instances where an array contains more than one row https://numpy.org/doc/stable/reference/random/generated/numpy.random.Generator.permutation.html#numpy.random.Generator.permutation.  "
   ]
  },
  {
   "cell_type": "code",
   "execution_count": 16,
   "metadata": {},
   "outputs": [
    {
     "data": {
      "text/plain": [
       "array([2, 6, 9, 5, 4, 8, 3, 7, 0, 1])"
      ]
     },
     "execution_count": 16,
     "metadata": {},
     "output_type": "execute_result"
    }
   ],
   "source": [
    "#change the order of the array - instead on return ([0, 1, 2, 3, 4, 5, 6, 7, 8, 9])\n",
    "rng_permute1 = np.random.default_rng().permutation(10)\n",
    "rng_permute1"
   ]
  },
  {
   "cell_type": "code",
   "execution_count": 39,
   "metadata": {},
   "outputs": [
    {
     "data": {
      "text/plain": [
       "array([[[ 0,  1,  2],\n",
       "        [ 3,  4,  5]],\n",
       "\n",
       "       [[ 6,  7,  8],\n",
       "        [ 9, 10, 11]]])"
      ]
     },
     "execution_count": 39,
     "metadata": {},
     "output_type": "execute_result"
    }
   ],
   "source": [
    "#change the order of array without changing the order of the elements in each row\n",
    "arr_permute = np.arange(12).reshape((2, 2, 3))\n",
    "rng_permute2 = np.random.default_rng().permutation(arr_permute)\n",
    "rng_permute2"
   ]
  },
  {
   "cell_type": "markdown",
   "metadata": {},
   "source": [
    "### <font color=blue>Shuffle</font>\n",
    "Returns a modified sequence by shuffling its contents pseudo-randomly. Method only shuffles the array along the first axis of a multi-dimensional array. The orders of sub arrays is changed but elements within each remain the same."
   ]
  },
  {
   "cell_type": "code",
   "execution_count": 40,
   "metadata": {},
   "outputs": [
    {
     "data": {
      "text/plain": [
       "array([[1, 0, 2],\n",
       "       [4, 3, 5],\n",
       "       [7, 6, 8]])"
      ]
     },
     "execution_count": 40,
     "metadata": {},
     "output_type": "execute_result"
    }
   ],
   "source": [
    "#Elements in each row are the same but are returned in a modified sequence\n",
    "arr_sh1 = np.arange(9).reshape((3, 3))\n",
    "rng_shuffle1 = np.random.default_rng().shuffle(arr_sh1, axis=1)\n",
    "arr_sh1"
   ]
  },
  {
   "cell_type": "code",
   "execution_count": 3,
   "metadata": {},
   "outputs": [
    {
     "data": {
      "text/plain": [
       "array([[[ 0,  1,  2,  3],\n",
       "        [ 4,  5,  6,  7]],\n",
       "\n",
       "       [[ 8,  9, 10, 11],\n",
       "        [12, 13, 14, 15]]])"
      ]
     },
     "execution_count": 3,
     "metadata": {},
     "output_type": "execute_result"
    }
   ],
   "source": [
    "#Method on shuffles the first axis of a multidimensional array. Elements in each row stay in the same sequence\n",
    "arr_sh2 = np.arange(16).reshape((2, 2, 4))\n",
    "rng_shuffle2 = np.random.default_rng().shuffle(arr_sh2, axis=1)\n",
    "arr_sh2"
   ]
  },
  {
   "cell_type": "markdown",
   "metadata": {},
   "source": [
    "### <font color=blue>Apply the permutation method to a pandas dataframe</font>"
   ]
  },
  {
   "cell_type": "code",
   "execution_count": 5,
   "metadata": {},
   "outputs": [
    {
     "data": {
      "text/html": [
       "<div>\n",
       "<style scoped>\n",
       "    .dataframe tbody tr th:only-of-type {\n",
       "        vertical-align: middle;\n",
       "    }\n",
       "\n",
       "    .dataframe tbody tr th {\n",
       "        vertical-align: top;\n",
       "    }\n",
       "\n",
       "    .dataframe thead th {\n",
       "        text-align: right;\n",
       "    }\n",
       "</style>\n",
       "<table border=\"1\" class=\"dataframe\">\n",
       "  <thead>\n",
       "    <tr style=\"text-align: right;\">\n",
       "      <th></th>\n",
       "      <th>Identifier</th>\n",
       "      <th>country</th>\n",
       "      <th>city</th>\n",
       "      <th>language</th>\n",
       "    </tr>\n",
       "  </thead>\n",
       "  <tbody>\n",
       "    <tr>\n",
       "      <th>0</th>\n",
       "      <td>Ire</td>\n",
       "      <td>Ireland</td>\n",
       "      <td>Dublin</td>\n",
       "      <td>english</td>\n",
       "    </tr>\n",
       "    <tr>\n",
       "      <th>1</th>\n",
       "      <td>Hun</td>\n",
       "      <td>Hungary</td>\n",
       "      <td>Budapest</td>\n",
       "      <td>hungarian</td>\n",
       "    </tr>\n",
       "    <tr>\n",
       "      <th>2</th>\n",
       "      <td>Ger</td>\n",
       "      <td>Germany</td>\n",
       "      <td>Berlin</td>\n",
       "      <td>german</td>\n",
       "    </tr>\n",
       "    <tr>\n",
       "      <th>3</th>\n",
       "      <td>Swe</td>\n",
       "      <td>Sweden</td>\n",
       "      <td>Stockholm</td>\n",
       "      <td>english</td>\n",
       "    </tr>\n",
       "    <tr>\n",
       "      <th>4</th>\n",
       "      <td>Fra</td>\n",
       "      <td>France</td>\n",
       "      <td>Paris</td>\n",
       "      <td>french</td>\n",
       "    </tr>\n",
       "  </tbody>\n",
       "</table>\n",
       "</div>"
      ],
      "text/plain": [
       "  Identifier  country       city   language\n",
       "0        Ire  Ireland     Dublin    english\n",
       "1        Hun  Hungary   Budapest  hungarian\n",
       "2        Ger  Germany     Berlin     german\n",
       "3        Swe   Sweden  Stockholm    english\n",
       "4        Fra   France      Paris     french"
      ]
     },
     "execution_count": 5,
     "metadata": {},
     "output_type": "execute_result"
    }
   ],
   "source": [
    "#Create a pandas dataframe from the random_permutations.txt file (created by author just for example)\n",
    "data = pd.read_csv('random_permutations.txt', delimiter=r\",\")\n",
    "data.set_index(['Identifier', 'country', 'city', 'language'])\n",
    "data"
   ]
  },
  {
   "cell_type": "code",
   "execution_count": 6,
   "metadata": {},
   "outputs": [],
   "source": [
    "#pseudo-randomly change order of nrows using permute method\n",
    "#generate a new row order called permuted_row\n",
    "nrows = data.shape[0]\n",
    "permuted_row = np.random.default_rng().permutation(nrows)"
   ]
  },
  {
   "cell_type": "code",
   "execution_count": 7,
   "metadata": {},
   "outputs": [
    {
     "data": {
      "text/plain": [
       "array([1, 3, 2, 4, 0])"
      ]
     },
     "execution_count": 7,
     "metadata": {},
     "output_type": "execute_result"
    }
   ],
   "source": [
    "#New order of rows to be displayed in dataframe\n",
    "permuted_row"
   ]
  },
  {
   "cell_type": "code",
   "execution_count": 8,
   "metadata": {},
   "outputs": [
    {
     "data": {
      "text/html": [
       "<div>\n",
       "<style scoped>\n",
       "    .dataframe tbody tr th:only-of-type {\n",
       "        vertical-align: middle;\n",
       "    }\n",
       "\n",
       "    .dataframe tbody tr th {\n",
       "        vertical-align: top;\n",
       "    }\n",
       "\n",
       "    .dataframe thead th {\n",
       "        text-align: right;\n",
       "    }\n",
       "</style>\n",
       "<table border=\"1\" class=\"dataframe\">\n",
       "  <thead>\n",
       "    <tr style=\"text-align: right;\">\n",
       "      <th></th>\n",
       "      <th>Identifier</th>\n",
       "      <th>country</th>\n",
       "      <th>city</th>\n",
       "      <th>language</th>\n",
       "    </tr>\n",
       "  </thead>\n",
       "  <tbody>\n",
       "    <tr>\n",
       "      <th>1</th>\n",
       "      <td>Hun</td>\n",
       "      <td>Hungary</td>\n",
       "      <td>Budapest</td>\n",
       "      <td>hungarian</td>\n",
       "    </tr>\n",
       "    <tr>\n",
       "      <th>3</th>\n",
       "      <td>Swe</td>\n",
       "      <td>Sweden</td>\n",
       "      <td>Stockholm</td>\n",
       "      <td>english</td>\n",
       "    </tr>\n",
       "    <tr>\n",
       "      <th>2</th>\n",
       "      <td>Ger</td>\n",
       "      <td>Germany</td>\n",
       "      <td>Berlin</td>\n",
       "      <td>german</td>\n",
       "    </tr>\n",
       "    <tr>\n",
       "      <th>4</th>\n",
       "      <td>Fra</td>\n",
       "      <td>France</td>\n",
       "      <td>Paris</td>\n",
       "      <td>french</td>\n",
       "    </tr>\n",
       "    <tr>\n",
       "      <th>0</th>\n",
       "      <td>Ire</td>\n",
       "      <td>Ireland</td>\n",
       "      <td>Dublin</td>\n",
       "      <td>english</td>\n",
       "    </tr>\n",
       "  </tbody>\n",
       "</table>\n",
       "</div>"
      ],
      "text/plain": [
       "  Identifier  country       city   language\n",
       "1        Hun  Hungary   Budapest  hungarian\n",
       "3        Swe   Sweden  Stockholm    english\n",
       "2        Ger  Germany     Berlin     german\n",
       "4        Fra   France      Paris     french\n",
       "0        Ire  Ireland     Dublin    english"
      ]
     },
     "execution_count": 8,
     "metadata": {},
     "output_type": "execute_result"
    }
   ],
   "source": [
    "#Apply new order using the take function\n",
    "data.take(permuted_row)"
   ]
  },
  {
   "cell_type": "markdown",
   "metadata": {},
   "source": [
    "The code for the above dataframe permutation was written by the author with assistance from online searches including a video on Pandas DataFrames: Permutation https://www.youtube.com/watch?v=zr7O2egWKQc."
   ]
  },
  {
   "cell_type": "markdown",
   "metadata": {},
   "source": [
    "***"
   ]
  },
  {
   "cell_type": "markdown",
   "metadata": {},
   "source": [
    "## <font color=blue>3) Distribution Functions</font>"
   ]
  },
  {
   "cell_type": "code",
   "execution_count": 9,
   "metadata": {},
   "outputs": [],
   "source": [
    "#Import the required libraries\n",
    "import numpy as np\n",
    "import pandas as pd\n",
    "import matplotlib.pyplot as plt\n",
    "%matplotlib inline"
   ]
  },
  {
   "cell_type": "markdown",
   "metadata": {},
   "source": [
    "### <font color=blue>i) np.random.uniform()</font>\n",
    "\n",
    "Uniform distribution is a type of probability distribution in which all outcomes are equally likely. There are two types of uniform distributions: discrete and continuous. The roll of a die generates a discrete distribution with p = 1/6 for each outcome. With a continuous distribution, every point in the continuous range between 0.0 and 1.0 has an equal opportunity of appearing, yet there are an infinite number of points between 0.0 and 1.0 https://www.investopedia.com/terms/u/uniform-distribution.asp."
   ]
  },
  {
   "cell_type": "code",
   "execution_count": 20,
   "metadata": {},
   "outputs": [
    {
     "data": {
      "image/png": "[encoded data removed]",
      "text/plain": [
       "<Figure size 1152x432 with 3 Axes>"
      ]
     },
     "metadata": {
      "needs_background": "light"
     },
     "output_type": "display_data"
    }
   ],
   "source": [
    "#Set a figure size for plots and generate array for continuous uniform distribution\n",
    "plt.figure(figsize=(16, 6))\n",
    "rng_uniform = np.random.default_rng().uniform(0, 10, 10000)\n",
    "\n",
    "#Using subplot to display various plots side be side\n",
    "plt.subplot(1, 3, 1)\n",
    "plt.hist(rng_uniform, color='yellow')\n",
    "plt.xlabel(\"Histogram showing uniform distribution\")\n",
    "\n",
    "plt.subplot(1, 3, 2)\n",
    "plt.plot(rng_uniform, 'g.')\n",
    "plt.xlabel(\"Plot of evenly distributed numbers\")\n",
    "plt.grid()\n",
    "\n",
    "#Set values in array to either 0 (less than 5.0) or 10 (equal or greater than 5.0)\n",
    "zero_or_ten = rng_uniform\n",
    "zero_or_ten[np.where(zero_or_ten < 5.0)] = 0\n",
    "zero_or_ten[np.where(zero_or_ten >= 5.0)] = 10\n",
    "plt.subplot(1, 3, 3)\n",
    "plt.hist(zero_or_ten, color='grey')\n",
    "plt.xlabel(\"Chart showing values below 5.0 versus values above\")\n",
    "plt.show()\n",
    "\n",
    "#Information for applying subplots @ https://www.tutorialexample.com/understand-matplotlib-plt-subplot-a-beginner-introduction-matplotlib-tutorial/"
   ]
  },
  {
   "cell_type": "code",
   "execution_count": 12,
   "metadata": {},
   "outputs": [
    {
     "name": "stdout",
     "output_type": "stream",
     "text": [
      "The number of values below 5.0 = 5008\n",
      "The number of values equal or greater to 5.0 = 4992\n"
     ]
    }
   ],
   "source": [
    "#Count number of values below 5.0 and number of values greater than or equal to 5.0\n",
    "\n",
    "print(\"The number of values below 5.0 =\", np.count_nonzero(rng_uniform < 5.0))\n",
    "print(\"The number of values equal or greater to 5.0 =\", np.count_nonzero(rng_uniform >= 5.0))\n",
    "\n",
    "#Found idea for count_nonzero method @ https://numpy.org/devdocs/reference/generated/numpy.count_nonzero.html"
   ]
  },
  {
   "cell_type": "markdown",
   "metadata": {},
   "source": [
    "### <font color=blue>ii) np.random.normal()</font>\n",
    "Normal distribution, also known as the Gaussian distribution, is a probability distribution that is symmetric about the mean, showing that data near the mean are more frequent in occurrence than data far from the mean. In graph form, normal distribution will appear as a bell curve \n",
    "https://www.investopedia.com/terms/n/normaldistribution.asp. \n",
    "\n",
    "Normal distribution often occurs in nature. The height is of a population example follows a normal distribution pattern. Most people are of average height with the number of people that are taller and shorter than average fairly equal. Only a small number of people are either extremely tall or extremely short. In a normal distribution the mean mode and median are all the same \n",
    "https://www.tutorialspoint.com/statistics/normal_distribution.htm."
   ]
  },
  {
   "cell_type": "markdown",
   "metadata": {},
   "source": [
    "Data set downloaded at https://www.kaggle.com/mustafaali96/weight-height. Units were not included so values are to be treated as dimensionless."
   ]
  },
  {
   "cell_type": "code",
   "execution_count": 15,
   "metadata": {},
   "outputs": [
    {
     "data": {
      "text/html": [
       "<div>\n",
       "<style scoped>\n",
       "    .dataframe tbody tr th:only-of-type {\n",
       "        vertical-align: middle;\n",
       "    }\n",
       "\n",
       "    .dataframe tbody tr th {\n",
       "        vertical-align: top;\n",
       "    }\n",
       "\n",
       "    .dataframe thead th {\n",
       "        text-align: right;\n",
       "    }\n",
       "</style>\n",
       "<table border=\"1\" class=\"dataframe\">\n",
       "  <thead>\n",
       "    <tr style=\"text-align: right;\">\n",
       "      <th></th>\n",
       "      <th>Gender</th>\n",
       "      <th>Height</th>\n",
       "    </tr>\n",
       "  </thead>\n",
       "  <tbody>\n",
       "    <tr>\n",
       "      <th>0</th>\n",
       "      <td>Male</td>\n",
       "      <td>73.847017</td>\n",
       "    </tr>\n",
       "    <tr>\n",
       "      <th>1</th>\n",
       "      <td>Male</td>\n",
       "      <td>68.781904</td>\n",
       "    </tr>\n",
       "    <tr>\n",
       "      <th>2</th>\n",
       "      <td>Male</td>\n",
       "      <td>74.110105</td>\n",
       "    </tr>\n",
       "    <tr>\n",
       "      <th>3</th>\n",
       "      <td>Male</td>\n",
       "      <td>71.730978</td>\n",
       "    </tr>\n",
       "    <tr>\n",
       "      <th>4</th>\n",
       "      <td>Male</td>\n",
       "      <td>69.881796</td>\n",
       "    </tr>\n",
       "  </tbody>\n",
       "</table>\n",
       "</div>"
      ],
      "text/plain": [
       "  Gender     Height\n",
       "0   Male  73.847017\n",
       "1   Male  68.781904\n",
       "2   Male  74.110105\n",
       "3   Male  71.730978\n",
       "4   Male  69.881796"
      ]
     },
     "execution_count": 15,
     "metadata": {},
     "output_type": "execute_result"
    }
   ],
   "source": [
    "#Read in the entire csv file\n",
    "df = pd.read_csv('population_bio.csv')\n",
    "\n",
    "#Remove 'Weight' column as it is not required for this study\n",
    "df_height = df[['Gender', 'Height']]\n",
    "\n",
    "#Remove 'Female' rows as this study is only looking at the 'Male' heights\n",
    "df_height_male = df_height[df_height.loc[:, 'Gender'] == 'Male']\n",
    "#first 5 rows\n",
    "df_height_male.head()\n"
   ]
  },
  {
   "cell_type": "markdown",
   "metadata": {},
   "source": [
    "### <font color=blue>Plot actual heights versus pseudo random generated values</font>"
   ]
  },
  {
   "cell_type": "code",
   "execution_count": 16,
   "metadata": {},
   "outputs": [
    {
     "data": {
      "image/png": "[encoded data removed]",
      "text/plain": [
       "<Figure size 1152x432 with 2 Axes>"
      ]
     },
     "metadata": {
      "needs_background": "light"
     },
     "output_type": "display_data"
    }
   ],
   "source": [
    "#Set figsize\n",
    "plt.figure(figsize=(16, 6))\n",
    "\n",
    "#Subplot histogram of the height of the actual data\n",
    "plt.subplot(1, 2, 1)\n",
    "plt.hist(df_height_male['Height'], bins=50)\n",
    "plt.xlabel(\"Height of a male population of dataframe\")\n",
    "\n",
    "#Subplot histogram of pseudo-randomly generated data\n",
    "plt.subplot(1, 2, 2)\n",
    "rng_normal = np.random.normal(loc=69.026346, scale=2.863362, size=5000)\n",
    "plt.hist(rng_normal, bins=50, color='red')\n",
    "plt.xlabel(\"Pseudo-random normal distribution\")\n",
    "plt.show()\n"
   ]
  },
  {
   "cell_type": "markdown",
   "metadata": {},
   "source": [
    "Both histograms above are clearly very similiarly distributed with similiar mean for both(units were not provided with dataset when downloaded)."
   ]
  },
  {
   "cell_type": "code",
   "execution_count": 21,
   "metadata": {},
   "outputs": [
    {
     "data": {
      "text/plain": [
       "count    5000.000000\n",
       "mean       69.026346\n",
       "std         2.863362\n",
       "min        58.406905\n",
       "25%        67.174679\n",
       "50%        69.027709\n",
       "75%        70.988744\n",
       "max        78.998742\n",
       "Name: Height, dtype: float64"
      ]
     },
     "execution_count": 21,
     "metadata": {},
     "output_type": "execute_result"
    }
   ],
   "source": [
    "df_height_male['Height'].describe()"
   ]
  },
  {
   "cell_type": "markdown",
   "metadata": {},
   "source": [
    "The describe function returns statistical details for the actual height of the male population for the dataframe. It shows that the mean and the 50th percentile are very similiar which is to be expected when data is normally distributed."
   ]
  },
  {
   "cell_type": "markdown",
   "metadata": {},
   "source": [
    "### <font color=blue>iii) np.random.binomial()</font>\n",
    "A Binomial distribution is used to demonstrate the probable outcome of a test that is repeated multiple times. Binomial refers to there being only two possible outcomes e.g. True or False https://www.youtube.com/watch?v=5QraKdZ_hUo.\n",
    "\n",
    "Samples are drawn from a binomial distribution with specified parameters, n trials and p probability of success where n an integer >= 0 and p is in the interval [0,1]\n",
    "\n",
    "https://numpy.org/doc/stable/reference/random/generated/numpy.random.Generator.binomial.html#numpy.random.Generator.binomial."
   ]
  },
  {
   "cell_type": "code",
   "execution_count": 22,
   "metadata": {},
   "outputs": [
    {
     "data": {
      "image/png": "[encoded data removed]",
      "text/plain": [
       "<Figure size 432x288 with 1 Axes>"
      ]
     },
     "metadata": {
      "needs_background": "light"
     },
     "output_type": "display_data"
    }
   ],
   "source": [
    "#Determine the probability that a value between 1-6 is correctly guessed \n",
    "#and the number of times it is guessed in each test when each test is 12 attempts\n",
    "#the test is run 100000 times  \n",
    "rng_binomial = np.random.default_rng().binomial(12, 0.167, 100000)\n",
    "plt.hist(rng_binomial, bins=100)\n",
    "plt.xlabel(\"Number of times roll of dice correctly guessed in a given test\")\n",
    "plt.show()"
   ]
  },
  {
   "cell_type": "code",
   "execution_count": 23,
   "metadata": {},
   "outputs": [
    {
     "data": {
      "text/plain": [
       "29.596"
      ]
     },
     "execution_count": 23,
     "metadata": {},
     "output_type": "execute_result"
    }
   ],
   "source": [
    "#Calculate the probability that 2 guesses will be correct in a given test (https://www.youtube.com/watch?v=h8T2dwZJMUw)\n",
    "rng_binomial_estimate = (sum(rng_binomial == 2)/100000)*100\n",
    "\n",
    "#Result shows % probability that 2 rolls of the dice will be correctly guessed in a given test.\n",
    "rng_binomial_estimate"
   ]
  },
  {
   "cell_type": "code",
   "execution_count": 24,
   "metadata": {},
   "outputs": [
    {
     "data": {
      "text/plain": [
       "Counter({1: 26902,\n",
       "         3: 19859,\n",
       "         0: 11125,\n",
       "         2: 29596,\n",
       "         4: 8884,\n",
       "         5: 2814,\n",
       "         7: 126,\n",
       "         6: 672,\n",
       "         8: 20,\n",
       "         9: 2})"
      ]
     },
     "execution_count": 24,
     "metadata": {},
     "output_type": "execute_result"
    }
   ],
   "source": [
    "#Import the collections library and using the Counter function\n",
    "#Record the number of occurences of each element in the array\n",
    "import collections\n",
    "\n",
    "rng_binomial_count = np.array(rng_binomial)\n",
    "collections.Counter(rng_binomial_count)\n",
    "\n",
    "#See link https://stackoverflow.com/questions/28663856/how-to-count-the-occurrence-of-certain-item-in-an-ndarray"
   ]
  },
  {
   "cell_type": "markdown",
   "metadata": {},
   "source": [
    "### <font color=blue>iv) np.random.pareto()</font>\n",
    "The Lomax or Pareto II distribution is a shifted Pareto distribution. The classical Pareto distribution can be obtained from the Lomax distribution by adding 1 and multiplying by the scale parameter https://numpy.org/doc/stable/reference/random/generated/numpy.random.Generator.pareto.html#numpy.random.Generator.pareto.\n",
    "\n",
    "The Pareto distribution is also known as the “80-20 rule”. In this distribution, 80 percent of the weights are in the lowest 20 percent of the range, while the other 20 percent fill the remaining 80 percent of the range. It was initially used to describe the distribution of wealth in an economy and has since been found to be useful when applied to many other social, scientific, geophysical, actuarial and various other types of observable phenomenon https://towardsdatascience.com/generating-pareto-distribution-in-python-2c2f77f70dbf."
   ]
  },
  {
   "cell_type": "markdown",
   "metadata": {},
   "source": [
    "<b>The probability density for the Pareto distribution where a is the shape and m the scale:<b>\n",
    "\n",
    "$$ pareto(x) = \\frac{am^a}{x^{a+1}} $$\n"
   ]
  },
  {
   "cell_type": "code",
   "execution_count": 25,
   "metadata": {},
   "outputs": [
    {
     "data": {
      "image/png": "[encoded data removed]",
      "text/plain": [
       "<Figure size 1152x432 with 2 Axes>"
      ]
     },
     "metadata": {
      "needs_background": "light"
     },
     "output_type": "display_data"
    }
   ],
   "source": [
    "#Set a figure size for plots and generate array for continuous uniform distribution\n",
    "plt.figure(figsize=(16, 6))\n",
    "\n",
    "#x_m is scale and alpha is shape parameter\n",
    "x_m, alpha = 1, 3\n",
    "sample_a = (np.random.default_rng().pareto(alpha, 1000) + 1) * x_m\n",
    "\n",
    "#Density is set to True so tuples first element count normalized to form probability density\n",
    "#Hence area under the histogram will be 1\n",
    "plt.subplot(1, 2, 1)\n",
    "count, bins, _ = plt.hist(sample_a, 100, density=True)\n",
    "fit = alpha*x_m**alpha / bins**(alpha+1)\n",
    "plt.plot(bins, max(count)*fit/max(fit), linewidth=2, color='r')\n",
    "plt.xlabel('bins', fontsize=15)\n",
    "plt.ylabel('probability density', fontsize=15)\n",
    "plt.title('Probability Density Function', fontsize=15)\n",
    "\n",
    "#The shape parameter affects the shape of a distribution rather than shifting it.\n",
    "x_m, alpha = 1, 5\n",
    "sample_b = (np.random.default_rng().pareto(alpha, 1000) + 1) * x_m\n",
    "\n",
    "plt.subplot(1, 2, 2)\n",
    "count, bins, _ = plt.hist(sample_b, 100, density=True)\n",
    "fit = alpha*x_m**alpha / bins**(alpha+1)\n",
    "plt.plot(bins, max(count)*fit/max(fit), linewidth=2, color='r')\n",
    "plt.xlabel('bins', fontsize=15)\n",
    "plt.ylabel('probability density', fontsize=15)\n",
    "plt.title('Probability Density Function', fontsize=15)\n",
    "\n",
    "plt.show()\n",
    "#Code for single plot was found at https://towardsdatascience.com/generating-pareto-distribution-in-python-2c2f77f70dbf"
   ]
  },
  {
   "cell_type": "markdown",
   "metadata": {},
   "source": [
    "Pareto distribution is a power law meaning a change in one quantity triggers a proportional change in the other quantity https://towardsdatascience.com/generating-pareto-distribution-in-python-2c2f77f70dbf."
   ]
  },
  {
   "cell_type": "markdown",
   "metadata": {},
   "source": [
    "### <font color=blue>v) np.random.triangular()</font>\n",
    "\n",
    "The triangular distribution is a continuous probability distribution in which the lower limit is to the left, the peak being the mode and the upper limit to the right. These parameters directly define the shape of the distribution https://code.i-harness.com/en/docs/numpy~1.14/generated/numpy.random.triangular. \n",
    "\n",
    "The triangular distribution is most often applied when an underlying distribution is not known, but an understanding of the limits and mode exists. An example of this would be in corporate finance where analysts use probability distributions to generate large amounts of possible random outcomes with these variables. "
   ]
  },
  {
   "cell_type": "code",
   "execution_count": 28,
   "metadata": {},
   "outputs": [
    {
     "data": {
      "image/png": "[encoded data removed]",
      "text/plain": [
       "<Figure size 1152x432 with 3 Axes>"
      ]
     },
     "metadata": {
      "needs_background": "light"
     },
     "output_type": "display_data"
    }
   ],
   "source": [
    "# Define function rng_triang \n",
    "def rng_triang (a, b, c, d):\n",
    "    return np.random.default_rng().triangular(a, b, c, d)\n",
    "\n",
    "plt.figure(figsize=(16, 6))\n",
    "plt.subplot(1, 3, 1)\n",
    "#Lower limit, mode, upper limit are known with size=5000\n",
    "plt.hist(rng_triang(-10, -8, 10, 5000), bins = 50, density = True, color='orange')\n",
    "plt.title('Left Sided Triangle', fontsize=15)\n",
    "\n",
    "plt.subplot(1, 3, 2)\n",
    "#Change the mode to see the distribution shift\n",
    "plt.hist(rng_triang(-10, 0, 10, 5000), bins = 50, density = True, color='red')\n",
    "plt.title('Centered', fontsize=15)\n",
    "\n",
    "plt.subplot(1, 3, 3)\n",
    "plt.hist(rng_triang(-10, 8, 10, 5000), bins = 50, density = True, color='grey')\n",
    "plt.title('Right Sided Triangle', fontsize=15)\n",
    "plt.show()"
   ]
  },
  {
   "cell_type": "markdown",
   "metadata": {},
   "source": [
    "***"
   ]
  },
  {
   "cell_type": "markdown",
   "metadata": {},
   "source": [
    "## <font color=blue>Task 4: Setting the SeedSequence</font>"
   ]
  },
  {
   "cell_type": "markdown",
   "metadata": {},
   "source": [
    "A random seed or seed state is a number (or vector) used to initialize a pseudorandom number generator. If a pseudorandom number generator is reinitialized with the same seed, it will produce the same sequence of numbers\n",
    "\n",
    "https://en.wikipedia.org/wiki/Random_seed#:~:text=A%20random%20seed%20%28or%20seed%20state%2C%20or%20just,so%20long%20as%20the%20original%20seed%20is%20ignored%2C"
   ]
  },
  {
   "cell_type": "code",
   "execution_count": 29,
   "metadata": {},
   "outputs": [],
   "source": [
    "#Import numpy library\n",
    "import numpy as np"
   ]
  },
  {
   "cell_type": "markdown",
   "metadata": {},
   "source": [
    "### <font color=blue>Pseudo-randomly generated seed</font>"
   ]
  },
  {
   "cell_type": "code",
   "execution_count": 30,
   "metadata": {},
   "outputs": [
    {
     "data": {
      "text/plain": [
       "SeedSequence(\n",
       "    entropy=112868860039486268444990589847393493971,\n",
       ")"
      ]
     },
     "execution_count": 30,
     "metadata": {},
     "output_type": "execute_result"
    }
   ],
   "source": [
    "#Generate a pseudo-random SeedSequence\n",
    "seed_seq_1 = np.random.SeedSequence()\n",
    "seed_seq_1"
   ]
  },
  {
   "cell_type": "markdown",
   "metadata": {},
   "source": [
    "### <font color=blue>Set the same SeedSequence to generate repeatable results</font>"
   ]
  },
  {
   "cell_type": "code",
   "execution_count": 31,
   "metadata": {},
   "outputs": [
    {
     "name": "stdout",
     "output_type": "stream",
     "text": [
      "[0.36634692 0.19929538 0.08855837 0.65319169 0.45933704 0.98767562]\n",
      "\n",
      "\n",
      "[0.36634692 0.19929538 0.08855837 0.65319169 0.45933704 0.98767562\n",
      " 0.85156807 0.83696132]\n"
     ]
    }
   ],
   "source": [
    "#Instantiate the SeedSequence\n",
    "seed_seq_2 = np.random.SeedSequence(22)\n",
    "\n",
    "#BitGenerator should call this method in its constructor to set its seed\n",
    "rand_gen_1a = np.random.default_rng(seed_seq_2)\n",
    "print(rand_gen_1a.random(6))\n",
    "\n",
    "print(\"\\n\")\n",
    "\n",
    "# seed_seq_2 to get the same output - first 6 elements in the array are the same as rand_gen_1a\n",
    "rand_gen_1b = np.random.default_rng(seed_seq_2)\n",
    "print(rand_gen_1b.random(8))"
   ]
  },
  {
   "cell_type": "markdown",
   "metadata": {},
   "source": [
    "### <font color=blue>Multi-dimensional arrays with the same pseudo-random data</font>"
   ]
  },
  {
   "cell_type": "code",
   "execution_count": 32,
   "metadata": {},
   "outputs": [
    {
     "name": "stdout",
     "output_type": "stream",
     "text": [
      "[0.25082446 0.94675294 0.18932038 0.17929141]\n",
      "[0.34988924 0.23054125 0.67044574 0.11507938]\n",
      "[0.89630937 0.85813049 0.00282703 0.54146616]\n",
      "[0.10685127 0.25795496 0.41689604 0.45361612]\n",
      "\n",
      "\n",
      "[0.25082446 0.94675294 0.18932038 0.17929141]\n",
      "[0.34988924 0.23054125 0.67044574 0.11507938]\n",
      "[0.89630937 0.85813049 0.00282703 0.54146616]\n",
      "[0.10685127 0.25795496 0.41689604 0.45361612]\n"
     ]
    }
   ],
   "source": [
    "seed_seq_3 = np.random.SeedSequence(12)\n",
    "\n",
    "rand_gen_2a = np.random.default_rng(seed_seq_3)\n",
    "\n",
    "#For loop to create a 2-dimensional array of pseudo-random elements\n",
    "for r_no in range(4):\n",
    "    print(rand_gen_2a.random(4))\n",
    "\n",
    "print(\"\\n\")\n",
    "\n",
    "#Use the same SeedSequence to generate another 2-d array with the same data\n",
    "rand_gen_2b = np.random.default_rng(seed_seq_3)\n",
    "for r_no in range(4):\n",
    "    print(rand_gen_2b.random(4))"
   ]
  },
  {
   "cell_type": "markdown",
   "metadata": {},
   "source": [
    "***"
   ]
  }
 ],
 "metadata": {
  "kernelspec": {
   "display_name": "Python 3",
   "language": "python",
   "name": "python3"
  },
  "language_info": {
   "codemirror_mode": {
    "name": "ipython",
    "version": 3
   },
   "file_extension": ".py",
   "mimetype": "text/x-python",
   "name": "python",
   "nbconvert_exporter": "python",
   "pygments_lexer": "ipython3",
   "version": "3.8.3"
  }
 },
 "nbformat": 4,
 "nbformat_minor": 4
}
